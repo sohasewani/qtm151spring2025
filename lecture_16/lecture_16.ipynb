{
 "cells": [
  {
   "attachments": {},
   "cell_type": "markdown",
   "metadata": {},
   "source": [
    "# <span style=\"color:darkblue\"> Lecture 16 - Time Data </span>\n",
    "\n",
    "<font size = \"5\">\n",
    "\n",
    "In  the last lecture we ...\n",
    "- Completed the module on SQL\n",
    "- Learned about escape characters\n",
    "\n",
    "\n",
    "In  this lecture we will ...\n",
    "\n",
    "- Process time data in Python\n",
    "- Learn about wildcards"
   ]
  },
  {
   "attachments": {},
   "cell_type": "markdown",
   "metadata": {},
   "source": [
    "# <span style=\"color:darkblue\"> I. Import Libraries and Data </span>"
   ]
  },
  {
   "cell_type": "markdown",
   "metadata": {},
   "source": [
    "<font size = \"5\">\n",
    "\n",
    "Import libraries"
   ]
  },
  {
   "cell_type": "code",
   "execution_count": 1,
   "metadata": {},
   "outputs": [],
   "source": [
    "# \"pandas\" processes datasets\n",
    "# \"maplotlib.pyplot\" generates graphs\n",
    "# \"maplotlib.dates\" has advanced options for plotting dates\n",
    "# \"datetime\" handles date information\n",
    "\n",
    "import pandas as pd\n",
    "import matplotlib.pyplot as plt\n",
    "import matplotlib.dates as mdates\n",
    "from datetime import date, time, datetime"
   ]
  },
  {
   "attachments": {},
   "cell_type": "markdown",
   "metadata": {},
   "source": [
    "<font size = \"5\">\n",
    "\n",
    "Import data"
   ]
  },
  {
   "cell_type": "code",
   "execution_count": 2,
   "metadata": {},
   "outputs": [],
   "source": [
    "financial = pd.read_csv(\"data_raw/financial.csv\")"
   ]
  },
  {
   "attachments": {},
   "cell_type": "markdown",
   "metadata": {},
   "source": [
    "<font size = \"5\">\n",
    "\n",
    "\"Parse\" time columns"
   ]
  },
  {
   "cell_type": "code",
   "execution_count": 3,
   "metadata": {},
   "outputs": [],
   "source": [
    "# Convert string column to datetime format\n",
    "# If the date format is simple, you can also parse on input as\n",
    "# financial = pd.read_csv(\"data_raw/financial.csv\",parse_dates = [\"date\"]\n",
    "# See advanced options for parsing further in the lecture...\n",
    "\n",
    "financial[\"date\"] = pd.to_datetime(financial[\"date_str\"])"
   ]
  },
  {
   "attachments": {},
   "cell_type": "markdown",
   "metadata": {},
   "source": [
    "<font size = \"5\">\n",
    "\n",
    "Check Types"
   ]
  },
  {
   "cell_type": "code",
   "execution_count": 4,
   "metadata": {},
   "outputs": [
    {
     "data": {
      "text/plain": [
       "date_str            object\n",
       "sp500              float64\n",
       "djia               float64\n",
       "date_ex1            object\n",
       "date_ex2            object\n",
       "date_ex3            object\n",
       "date        datetime64[ns]\n",
       "dtype: object"
      ]
     },
     "execution_count": 4,
     "metadata": {},
     "output_type": "execute_result"
    }
   ],
   "source": [
    "# Standard data types are \"int\", \"str\", \"float\", and \"bool\"\n",
    "# There is also a \"datetime\" types\n",
    "\n",
    "financial.dtypes"
   ]
  },
  {
   "attachments": {},
   "cell_type": "markdown",
   "metadata": {},
   "source": [
    "<font size = \"5\">\n",
    "\n",
    "Visualize time data"
   ]
  },
  {
   "cell_type": "code",
   "execution_count": 5,
   "metadata": {},
   "outputs": [
    {
     "data": {
      "text/plain": [
       "Timestamp('2018-04-04 00:00:00')"
      ]
     },
     "execution_count": 5,
     "metadata": {},
     "output_type": "execute_result"
    }
   ],
   "source": [
    "financial['date'][0]"
   ]
  },
  {
   "cell_type": "code",
   "execution_count": 6,
   "metadata": {},
   "outputs": [
    {
     "data": {
      "application/vnd.microsoft.datawrangler.viewer.v0+json": {
       "columns": [
        {
         "name": "index",
         "rawType": "int64",
         "type": "integer"
        },
        {
         "name": "date_str",
         "rawType": "object",
         "type": "string"
        },
        {
         "name": "sp500",
         "rawType": "float64",
         "type": "float"
        },
        {
         "name": "djia",
         "rawType": "float64",
         "type": "float"
        },
        {
         "name": "date_ex1",
         "rawType": "object",
         "type": "string"
        },
        {
         "name": "date_ex2",
         "rawType": "object",
         "type": "string"
        },
        {
         "name": "date_ex3",
         "rawType": "object",
         "type": "string"
        },
        {
         "name": "date",
         "rawType": "datetime64[ns]",
         "type": "datetime"
        }
       ],
       "conversionMethod": "pd.DataFrame",
       "ref": "8a4563d1-f976-4792-879f-86424681310b",
       "rows": [
        [
         "1304",
         "4/4/2023",
         "4100.6",
         "33402.38",
         "April 04 2023",
         "Tuesday, 2023-04-04",
         "4-Apr-23",
         "2023-04-04 00:00:00"
        ],
        [
         "1303",
         "4/3/2023",
         "4124.51",
         "33601.15",
         "April 03 2023",
         "Monday, 2023-04-03",
         "3-Apr-23",
         "2023-04-03 00:00:00"
        ],
        [
         "1302",
         "3/31/2023",
         "4109.31",
         "33274.15",
         "March 31 2023",
         "Friday, 2023-03-31",
         "31-Mar-23",
         "2023-03-31 00:00:00"
        ],
        [
         "1301",
         "3/30/2023",
         "4050.83",
         "32859.03",
         "March 30 2023",
         "Thursday, 2023-03-30",
         "30-Mar-23",
         "2023-03-30 00:00:00"
        ],
        [
         "1300",
         "3/29/2023",
         "4027.81",
         "32717.6",
         "March 29 2023",
         "Wednesday, 2023-03-29",
         "29-Mar-23",
         "2023-03-29 00:00:00"
        ],
        [
         "1299",
         "3/28/2023",
         "3971.27",
         "32394.25",
         "March 28 2023",
         "Tuesday, 2023-03-28",
         "28-Mar-23",
         "2023-03-28 00:00:00"
        ],
        [
         "1298",
         "3/27/2023",
         "3977.53",
         "32432.08",
         "March 27 2023",
         "Monday, 2023-03-27",
         "27-Mar-23",
         "2023-03-27 00:00:00"
        ],
        [
         "1297",
         "3/24/2023",
         "3970.99",
         "32237.53",
         "March 24 2023",
         "Friday, 2023-03-24",
         "24-Mar-23",
         "2023-03-24 00:00:00"
        ],
        [
         "1296",
         "3/23/2023",
         "3948.72",
         "32105.25",
         "March 23 2023",
         "Thursday, 2023-03-23",
         "23-Mar-23",
         "2023-03-23 00:00:00"
        ],
        [
         "1295",
         "3/22/2023",
         "3936.97",
         "32030.11",
         "March 22 2023",
         "Wednesday, 2023-03-22",
         "22-Mar-23",
         "2023-03-22 00:00:00"
        ],
        [
         "1294",
         "3/21/2023",
         "4002.87",
         "32560.6",
         "March 21 2023",
         "Tuesday, 2023-03-21",
         "21-Mar-23",
         "2023-03-21 00:00:00"
        ],
        [
         "1293",
         "3/20/2023",
         "3951.57",
         "32244.58",
         "March 20 2023",
         "Monday, 2023-03-20",
         "20-Mar-23",
         "2023-03-20 00:00:00"
        ],
        [
         "1292",
         "3/17/2023",
         "3916.64",
         "31861.98",
         "March 17 2023",
         "Friday, 2023-03-17",
         "17-Mar-23",
         "2023-03-17 00:00:00"
        ],
        [
         "1291",
         "3/16/2023",
         "3960.28",
         "32246.55",
         "March 16 2023",
         "Thursday, 2023-03-16",
         "16-Mar-23",
         "2023-03-16 00:00:00"
        ],
        [
         "1290",
         "3/15/2023",
         "3891.93",
         "31874.57",
         "March 15 2023",
         "Wednesday, 2023-03-15",
         "15-Mar-23",
         "2023-03-15 00:00:00"
        ],
        [
         "1289",
         "3/14/2023",
         "3919.29",
         "32155.4",
         "March 14 2023",
         "Tuesday, 2023-03-14",
         "14-Mar-23",
         "2023-03-14 00:00:00"
        ],
        [
         "1288",
         "3/13/2023",
         "3855.76",
         "31819.14",
         "March 13 2023",
         "Monday, 2023-03-13",
         "13-Mar-23",
         "2023-03-13 00:00:00"
        ],
        [
         "1287",
         "3/10/2023",
         "3861.59",
         "31909.64",
         "March 10 2023",
         "Friday, 2023-03-10",
         "10-Mar-23",
         "2023-03-10 00:00:00"
        ],
        [
         "1286",
         "3/9/2023",
         "3918.32",
         "32254.86",
         "March 09 2023",
         "Thursday, 2023-03-09",
         "9-Mar-23",
         "2023-03-09 00:00:00"
        ],
        [
         "1285",
         "3/8/2023",
         "3992.01",
         "32798.4",
         "March 08 2023",
         "Wednesday, 2023-03-08",
         "8-Mar-23",
         "2023-03-08 00:00:00"
        ],
        [
         "1284",
         "3/7/2023",
         "3986.37",
         "32856.46",
         "March 07 2023",
         "Tuesday, 2023-03-07",
         "7-Mar-23",
         "2023-03-07 00:00:00"
        ],
        [
         "1283",
         "3/6/2023",
         "4048.42",
         "33431.44",
         "March 06 2023",
         "Monday, 2023-03-06",
         "6-Mar-23",
         "2023-03-06 00:00:00"
        ],
        [
         "1282",
         "3/3/2023",
         "4045.64",
         "33390.97",
         "March 03 2023",
         "Friday, 2023-03-03",
         "3-Mar-23",
         "2023-03-03 00:00:00"
        ],
        [
         "1281",
         "3/2/2023",
         "3981.35",
         "33003.57",
         "March 02 2023",
         "Thursday, 2023-03-02",
         "2-Mar-23",
         "2023-03-02 00:00:00"
        ],
        [
         "1280",
         "3/1/2023",
         "3951.39",
         "32661.84",
         "March 01 2023",
         "Wednesday, 2023-03-01",
         "1-Mar-23",
         "2023-03-01 00:00:00"
        ],
        [
         "1279",
         "2/28/2023",
         "3970.15",
         "32656.7",
         "February 28 2023",
         "Tuesday, 2023-02-28",
         "28-Feb-23",
         "2023-02-28 00:00:00"
        ],
        [
         "1278",
         "2/27/2023",
         "3982.24",
         "32889.09",
         "February 27 2023",
         "Monday, 2023-02-27",
         "27-Feb-23",
         "2023-02-27 00:00:00"
        ],
        [
         "1277",
         "2/24/2023",
         "3970.04",
         "32816.92",
         "February 24 2023",
         "Friday, 2023-02-24",
         "24-Feb-23",
         "2023-02-24 00:00:00"
        ],
        [
         "1276",
         "2/23/2023",
         "4012.32",
         "33153.91",
         "February 23 2023",
         "Thursday, 2023-02-23",
         "23-Feb-23",
         "2023-02-23 00:00:00"
        ],
        [
         "1275",
         "2/22/2023",
         "3991.05",
         "33045.09",
         "February 22 2023",
         "Wednesday, 2023-02-22",
         "22-Feb-23",
         "2023-02-22 00:00:00"
        ],
        [
         "1274",
         "2/21/2023",
         "3997.34",
         "33129.59",
         "February 21 2023",
         "Tuesday, 2023-02-21",
         "21-Feb-23",
         "2023-02-21 00:00:00"
        ],
        [
         "1273",
         "2/20/2023",
         null,
         null,
         "February 20 2023",
         "Monday, 2023-02-20",
         "20-Feb-23",
         "2023-02-20 00:00:00"
        ],
        [
         "1272",
         "2/17/2023",
         "4079.09",
         "33826.69",
         "February 17 2023",
         "Friday, 2023-02-17",
         "17-Feb-23",
         "2023-02-17 00:00:00"
        ],
        [
         "1271",
         "2/16/2023",
         "4090.41",
         "33696.85",
         "February 16 2023",
         "Thursday, 2023-02-16",
         "16-Feb-23",
         "2023-02-16 00:00:00"
        ],
        [
         "1270",
         "2/15/2023",
         "4147.6",
         "34128.05",
         "February 15 2023",
         "Wednesday, 2023-02-15",
         "15-Feb-23",
         "2023-02-15 00:00:00"
        ],
        [
         "1269",
         "2/14/2023",
         "4136.13",
         "34089.27",
         "February 14 2023",
         "Tuesday, 2023-02-14",
         "14-Feb-23",
         "2023-02-14 00:00:00"
        ],
        [
         "1268",
         "2/13/2023",
         "4137.29",
         "34245.93",
         "February 13 2023",
         "Monday, 2023-02-13",
         "13-Feb-23",
         "2023-02-13 00:00:00"
        ],
        [
         "1267",
         "2/10/2023",
         "4090.46",
         "33869.27",
         "February 10 2023",
         "Friday, 2023-02-10",
         "10-Feb-23",
         "2023-02-10 00:00:00"
        ],
        [
         "1266",
         "2/9/2023",
         "4081.5",
         "33699.88",
         "February 09 2023",
         "Thursday, 2023-02-09",
         "9-Feb-23",
         "2023-02-09 00:00:00"
        ],
        [
         "1265",
         "2/8/2023",
         "4117.86",
         "33949.01",
         "February 08 2023",
         "Wednesday, 2023-02-08",
         "8-Feb-23",
         "2023-02-08 00:00:00"
        ],
        [
         "1264",
         "2/7/2023",
         "4164.0",
         "34156.69",
         "February 07 2023",
         "Tuesday, 2023-02-07",
         "7-Feb-23",
         "2023-02-07 00:00:00"
        ],
        [
         "1263",
         "2/6/2023",
         "4111.08",
         "33891.02",
         "February 06 2023",
         "Monday, 2023-02-06",
         "6-Feb-23",
         "2023-02-06 00:00:00"
        ],
        [
         "1262",
         "2/3/2023",
         "4136.48",
         "33926.01",
         "February 03 2023",
         "Friday, 2023-02-03",
         "3-Feb-23",
         "2023-02-03 00:00:00"
        ],
        [
         "1261",
         "2/2/2023",
         "4179.76",
         "34053.94",
         "February 02 2023",
         "Thursday, 2023-02-02",
         "2-Feb-23",
         "2023-02-02 00:00:00"
        ],
        [
         "1260",
         "2/1/2023",
         "4119.21",
         "34092.96",
         "February 01 2023",
         "Wednesday, 2023-02-01",
         "1-Feb-23",
         "2023-02-01 00:00:00"
        ],
        [
         "1259",
         "1/31/2023",
         "4076.6",
         "34086.04",
         "January 31 2023",
         "Tuesday, 2023-01-31",
         "31-Jan-23",
         "2023-01-31 00:00:00"
        ],
        [
         "1258",
         "1/30/2023",
         "4017.77",
         "33717.09",
         "January 30 2023",
         "Monday, 2023-01-30",
         "30-Jan-23",
         "2023-01-30 00:00:00"
        ],
        [
         "1257",
         "1/27/2023",
         "4070.56",
         "33978.08",
         "January 27 2023",
         "Friday, 2023-01-27",
         "27-Jan-23",
         "2023-01-27 00:00:00"
        ],
        [
         "1256",
         "1/26/2023",
         "4060.43",
         "33949.41",
         "January 26 2023",
         "Thursday, 2023-01-26",
         "26-Jan-23",
         "2023-01-26 00:00:00"
        ],
        [
         "1255",
         "1/25/2023",
         "4016.22",
         "33743.84",
         "January 25 2023",
         "Wednesday, 2023-01-25",
         "25-Jan-23",
         "2023-01-25 00:00:00"
        ]
       ],
       "shape": {
        "columns": 7,
        "rows": 1305
       }
      },
      "text/html": [
       "<div>\n",
       "<style scoped>\n",
       "    .dataframe tbody tr th:only-of-type {\n",
       "        vertical-align: middle;\n",
       "    }\n",
       "\n",
       "    .dataframe tbody tr th {\n",
       "        vertical-align: top;\n",
       "    }\n",
       "\n",
       "    .dataframe thead th {\n",
       "        text-align: right;\n",
       "    }\n",
       "</style>\n",
       "<table border=\"1\" class=\"dataframe\">\n",
       "  <thead>\n",
       "    <tr style=\"text-align: right;\">\n",
       "      <th></th>\n",
       "      <th>date_str</th>\n",
       "      <th>sp500</th>\n",
       "      <th>djia</th>\n",
       "      <th>date_ex1</th>\n",
       "      <th>date_ex2</th>\n",
       "      <th>date_ex3</th>\n",
       "      <th>date</th>\n",
       "    </tr>\n",
       "  </thead>\n",
       "  <tbody>\n",
       "    <tr>\n",
       "      <th>1304</th>\n",
       "      <td>4/4/2023</td>\n",
       "      <td>4100.60</td>\n",
       "      <td>33402.38</td>\n",
       "      <td>April 04 2023</td>\n",
       "      <td>Tuesday, 2023-04-04</td>\n",
       "      <td>4-Apr-23</td>\n",
       "      <td>2023-04-04</td>\n",
       "    </tr>\n",
       "    <tr>\n",
       "      <th>1303</th>\n",
       "      <td>4/3/2023</td>\n",
       "      <td>4124.51</td>\n",
       "      <td>33601.15</td>\n",
       "      <td>April 03 2023</td>\n",
       "      <td>Monday, 2023-04-03</td>\n",
       "      <td>3-Apr-23</td>\n",
       "      <td>2023-04-03</td>\n",
       "    </tr>\n",
       "    <tr>\n",
       "      <th>1302</th>\n",
       "      <td>3/31/2023</td>\n",
       "      <td>4109.31</td>\n",
       "      <td>33274.15</td>\n",
       "      <td>March 31 2023</td>\n",
       "      <td>Friday, 2023-03-31</td>\n",
       "      <td>31-Mar-23</td>\n",
       "      <td>2023-03-31</td>\n",
       "    </tr>\n",
       "    <tr>\n",
       "      <th>1301</th>\n",
       "      <td>3/30/2023</td>\n",
       "      <td>4050.83</td>\n",
       "      <td>32859.03</td>\n",
       "      <td>March 30 2023</td>\n",
       "      <td>Thursday, 2023-03-30</td>\n",
       "      <td>30-Mar-23</td>\n",
       "      <td>2023-03-30</td>\n",
       "    </tr>\n",
       "    <tr>\n",
       "      <th>1300</th>\n",
       "      <td>3/29/2023</td>\n",
       "      <td>4027.81</td>\n",
       "      <td>32717.60</td>\n",
       "      <td>March 29 2023</td>\n",
       "      <td>Wednesday, 2023-03-29</td>\n",
       "      <td>29-Mar-23</td>\n",
       "      <td>2023-03-29</td>\n",
       "    </tr>\n",
       "    <tr>\n",
       "      <th>...</th>\n",
       "      <td>...</td>\n",
       "      <td>...</td>\n",
       "      <td>...</td>\n",
       "      <td>...</td>\n",
       "      <td>...</td>\n",
       "      <td>...</td>\n",
       "      <td>...</td>\n",
       "    </tr>\n",
       "    <tr>\n",
       "      <th>4</th>\n",
       "      <td>4/10/2018</td>\n",
       "      <td>2656.87</td>\n",
       "      <td>24408.00</td>\n",
       "      <td>April 10 2018</td>\n",
       "      <td>Tuesday, 2018-04-10</td>\n",
       "      <td>10-Apr-18</td>\n",
       "      <td>2018-04-10</td>\n",
       "    </tr>\n",
       "    <tr>\n",
       "      <th>3</th>\n",
       "      <td>4/9/2018</td>\n",
       "      <td>2613.16</td>\n",
       "      <td>23979.10</td>\n",
       "      <td>April 09 2018</td>\n",
       "      <td>Monday, 2018-04-09</td>\n",
       "      <td>9-Apr-18</td>\n",
       "      <td>2018-04-09</td>\n",
       "    </tr>\n",
       "    <tr>\n",
       "      <th>2</th>\n",
       "      <td>4/6/2018</td>\n",
       "      <td>2604.47</td>\n",
       "      <td>23932.76</td>\n",
       "      <td>April 06 2018</td>\n",
       "      <td>Friday, 2018-04-06</td>\n",
       "      <td>6-Apr-18</td>\n",
       "      <td>2018-04-06</td>\n",
       "    </tr>\n",
       "    <tr>\n",
       "      <th>1</th>\n",
       "      <td>4/5/2018</td>\n",
       "      <td>2662.84</td>\n",
       "      <td>24505.22</td>\n",
       "      <td>April 05 2018</td>\n",
       "      <td>Thursday, 2018-04-05</td>\n",
       "      <td>5-Apr-18</td>\n",
       "      <td>2018-04-05</td>\n",
       "    </tr>\n",
       "    <tr>\n",
       "      <th>0</th>\n",
       "      <td>4/4/2018</td>\n",
       "      <td>2644.69</td>\n",
       "      <td>24264.30</td>\n",
       "      <td>April 04 2018</td>\n",
       "      <td>Wednesday, 2018-04-04</td>\n",
       "      <td>4-Apr-18</td>\n",
       "      <td>2018-04-04</td>\n",
       "    </tr>\n",
       "  </tbody>\n",
       "</table>\n",
       "<p>1305 rows × 7 columns</p>\n",
       "</div>"
      ],
      "text/plain": [
       "       date_str    sp500      djia       date_ex1               date_ex2  \\\n",
       "1304   4/4/2023  4100.60  33402.38  April 04 2023    Tuesday, 2023-04-04   \n",
       "1303   4/3/2023  4124.51  33601.15  April 03 2023     Monday, 2023-04-03   \n",
       "1302  3/31/2023  4109.31  33274.15  March 31 2023     Friday, 2023-03-31   \n",
       "1301  3/30/2023  4050.83  32859.03  March 30 2023   Thursday, 2023-03-30   \n",
       "1300  3/29/2023  4027.81  32717.60  March 29 2023  Wednesday, 2023-03-29   \n",
       "...         ...      ...       ...            ...                    ...   \n",
       "4     4/10/2018  2656.87  24408.00  April 10 2018    Tuesday, 2018-04-10   \n",
       "3      4/9/2018  2613.16  23979.10  April 09 2018     Monday, 2018-04-09   \n",
       "2      4/6/2018  2604.47  23932.76  April 06 2018     Friday, 2018-04-06   \n",
       "1      4/5/2018  2662.84  24505.22  April 05 2018   Thursday, 2018-04-05   \n",
       "0      4/4/2018  2644.69  24264.30  April 04 2018  Wednesday, 2018-04-04   \n",
       "\n",
       "       date_ex3       date  \n",
       "1304   4-Apr-23 2023-04-04  \n",
       "1303   3-Apr-23 2023-04-03  \n",
       "1302  31-Mar-23 2023-03-31  \n",
       "1301  30-Mar-23 2023-03-30  \n",
       "1300  29-Mar-23 2023-03-29  \n",
       "...         ...        ...  \n",
       "4     10-Apr-18 2018-04-10  \n",
       "3      9-Apr-18 2018-04-09  \n",
       "2      6-Apr-18 2018-04-06  \n",
       "1      5-Apr-18 2018-04-05  \n",
       "0      4-Apr-18 2018-04-04  \n",
       "\n",
       "[1305 rows x 7 columns]"
      ]
     },
     "execution_count": 6,
     "metadata": {},
     "output_type": "execute_result"
    }
   ],
   "source": [
    "financial.sort_values(\"date\",ascending = False)"
   ]
  },
  {
   "cell_type": "code",
   "execution_count": 7,
   "metadata": {},
   "outputs": [
    {
     "data": {
      "text/plain": [
       "Text(0.5, 1.0, 'The evolution of the stock market')"
      ]
     },
     "execution_count": 7,
     "metadata": {},
     "output_type": "execute_result"
    },
    {
     "data": {
      "image/png": "[encoded data removed]",
      "text/plain": [
       "<Figure size 640x480 with 1 Axes>"
      ]
     },
     "metadata": {},
     "output_type": "display_data"
    }
   ],
   "source": [
    "# plt.plot() is used to create line plots\n",
    "# The first two arguments are column names for the (x,y) data\n",
    "# The third argument is the data\n",
    "# Make sure that the data is sorted, since the lines will be connected\n",
    "# based on the order of the dataset\n",
    "\n",
    "plt.plot(\"date\", \"sp500\",\n",
    "          data = financial)\n",
    "plt.xlabel(\"Time\")\n",
    "plt.ylabel(\"S&P 500 Index\")\n",
    "plt.title(\"The evolution of the stock market\")\n"
   ]
  },
  {
   "attachments": {},
   "cell_type": "markdown",
   "metadata": {},
   "source": [
    "<font size = \"5\">\n",
    "\n",
    "S&P 500 tracks the average performance of <br>\n",
    "of the largest companies in the US stock market\n",
    "\n",
    "$\\quad$ https://en.wikipedia.org/wiki/S%26P_500 <br>\n",
    "$\\quad$ https://fred.stlouisfed.org/series/SP500"
   ]
  },
  {
   "attachments": {},
   "cell_type": "markdown",
   "metadata": {},
   "source": [
    "<font size = \"5\">\n",
    "\n",
    "Try it yourself!\n",
    "\n",
    "- Generate a line plot which has the Dow Jones <br>\n",
    "Industrial Index (\"djia\") on the y-axis and <br>\n",
    "\"date\" on the x-axis."
   ]
  },
  {
   "cell_type": "code",
   "execution_count": 9,
   "metadata": {},
   "outputs": [
    {
     "data": {
      "text/plain": [
       "Text(0.5, 1.0, 'The evolution of the stock market')"
      ]
     },
     "execution_count": 9,
     "metadata": {},
     "output_type": "execute_result"
    },
    {
     "data": {
      "image/png": "[encoded data removed]",
      "text/plain": [
       "<Figure size 640x480 with 1 Axes>"
      ]
     },
     "metadata": {},
     "output_type": "display_data"
    }
   ],
   "source": [
    "# Write your own code\n",
    "\n",
    "plt.plot(\"date\", \"djia\",\n",
    "          data = financial)\n",
    "plt.xlabel(\"Time\")\n",
    "plt.ylabel(\"Dow Jones Index\")\n",
    "plt.title(\"The evolution of the stock market\")\n",
    "\n"
   ]
  },
  {
   "attachments": {},
   "cell_type": "markdown",
   "metadata": {},
   "source": [
    "# <span style=\"color:darkblue\"> II. Dates + Wild Cards  </span>"
   ]
  },
  {
   "attachments": {},
   "cell_type": "markdown",
   "metadata": {},
   "source": [
    "<font size = \"5\">\n",
    "\n",
    "Convert to string (a)\n",
    "\n",
    "\n",
    "- A wildcard ```%``` is used to denote date formats\n",
    "- Useful when working with text data\n",
    "\n",
    "$\\quad$ <img src=\"figures/wildcards_fig1.png\" alt=\"drawing\" width=\"300\"/>"
   ]
  },
  {
   "cell_type": "code",
   "execution_count": 7,
   "metadata": {},
   "outputs": [],
   "source": [
    "# \"String from time\" .dt.strftime()\n",
    "# The first argument needs to be a datetime type \n",
    "# The second argument is the format you want to use\n",
    "# Note: \"dt\" stands for datatime\n",
    "\n",
    "financial[\"month_str\"] = financial[\"date\"].dt.strftime(\"%m\")\n",
    "financial[\"week_str\"]  = financial[\"date\"].dt.strftime(\"%W\")\n"
   ]
  },
  {
   "attachments": {},
   "cell_type": "markdown",
   "metadata": {},
   "source": [
    "<font size = \"5\">\n",
    "\n",
    "Convert to string (b)\n",
    "\n",
    "$\\quad$ <img src=\"figures/wildcards_fig2.png\" alt=\"drawing\" width=\"400\"/>"
   ]
  },
  {
   "cell_type": "code",
   "execution_count": 8,
   "metadata": {},
   "outputs": [
    {
     "data": {
      "application/vnd.microsoft.datawrangler.viewer.v0+json": {
       "columns": [
        {
         "name": "index",
         "rawType": "int64",
         "type": "integer"
        },
        {
         "name": "date_str",
         "rawType": "object",
         "type": "string"
        },
        {
         "name": "sp500",
         "rawType": "float64",
         "type": "float"
        },
        {
         "name": "djia",
         "rawType": "float64",
         "type": "float"
        },
        {
         "name": "date_ex1",
         "rawType": "object",
         "type": "string"
        },
        {
         "name": "date_ex2",
         "rawType": "object",
         "type": "string"
        },
        {
         "name": "date_ex3",
         "rawType": "object",
         "type": "string"
        },
        {
         "name": "date",
         "rawType": "datetime64[ns]",
         "type": "datetime"
        },
        {
         "name": "month_str",
         "rawType": "object",
         "type": "string"
        },
        {
         "name": "week_str",
         "rawType": "object",
         "type": "string"
        },
        {
         "name": "monthname",
         "rawType": "object",
         "type": "string"
        },
        {
         "name": "weekdayname",
         "rawType": "object",
         "type": "string"
        }
       ],
       "conversionMethod": "pd.DataFrame",
       "ref": "083820f0-c054-4853-8489-68cac0011354",
       "rows": [
        [
         "0",
         "4/4/2018",
         "2644.69",
         "24264.3",
         "April 04 2018",
         "Wednesday, 2018-04-04",
         "4-Apr-18",
         "2018-04-04 00:00:00",
         "04",
         "14",
         "April",
         "Wednesday"
        ],
        [
         "1",
         "4/5/2018",
         "2662.84",
         "24505.22",
         "April 05 2018",
         "Thursday, 2018-04-05",
         "5-Apr-18",
         "2018-04-05 00:00:00",
         "04",
         "14",
         "April",
         "Thursday"
        ],
        [
         "2",
         "4/6/2018",
         "2604.47",
         "23932.76",
         "April 06 2018",
         "Friday, 2018-04-06",
         "6-Apr-18",
         "2018-04-06 00:00:00",
         "04",
         "14",
         "April",
         "Friday"
        ],
        [
         "3",
         "4/9/2018",
         "2613.16",
         "23979.1",
         "April 09 2018",
         "Monday, 2018-04-09",
         "9-Apr-18",
         "2018-04-09 00:00:00",
         "04",
         "15",
         "April",
         "Monday"
        ],
        [
         "4",
         "4/10/2018",
         "2656.87",
         "24408.0",
         "April 10 2018",
         "Tuesday, 2018-04-10",
         "10-Apr-18",
         "2018-04-10 00:00:00",
         "04",
         "15",
         "April",
         "Tuesday"
        ],
        [
         "5",
         "4/11/2018",
         "2642.19",
         "24189.45",
         "April 11 2018",
         "Wednesday, 2018-04-11",
         "11-Apr-18",
         "2018-04-11 00:00:00",
         "04",
         "15",
         "April",
         "Wednesday"
        ],
        [
         "6",
         "4/12/2018",
         "2663.99",
         "24483.05",
         "April 12 2018",
         "Thursday, 2018-04-12",
         "12-Apr-18",
         "2018-04-12 00:00:00",
         "04",
         "15",
         "April",
         "Thursday"
        ],
        [
         "7",
         "4/13/2018",
         "2656.3",
         "24360.14",
         "April 13 2018",
         "Friday, 2018-04-13",
         "13-Apr-18",
         "2018-04-13 00:00:00",
         "04",
         "15",
         "April",
         "Friday"
        ],
        [
         "8",
         "4/16/2018",
         "2677.84",
         "24573.04",
         "April 16 2018",
         "Monday, 2018-04-16",
         "16-Apr-18",
         "2018-04-16 00:00:00",
         "04",
         "16",
         "April",
         "Monday"
        ],
        [
         "9",
         "4/17/2018",
         "2706.39",
         "24786.63",
         "April 17 2018",
         "Tuesday, 2018-04-17",
         "17-Apr-18",
         "2018-04-17 00:00:00",
         "04",
         "16",
         "April",
         "Tuesday"
        ],
        [
         "10",
         "4/18/2018",
         "2708.64",
         "24748.07",
         "April 18 2018",
         "Wednesday, 2018-04-18",
         "18-Apr-18",
         "2018-04-18 00:00:00",
         "04",
         "16",
         "April",
         "Wednesday"
        ],
        [
         "11",
         "4/19/2018",
         "2693.13",
         "24664.89",
         "April 19 2018",
         "Thursday, 2018-04-19",
         "19-Apr-18",
         "2018-04-19 00:00:00",
         "04",
         "16",
         "April",
         "Thursday"
        ],
        [
         "12",
         "4/20/2018",
         "2670.14",
         "24462.94",
         "April 20 2018",
         "Friday, 2018-04-20",
         "20-Apr-18",
         "2018-04-20 00:00:00",
         "04",
         "16",
         "April",
         "Friday"
        ],
        [
         "13",
         "4/23/2018",
         "2670.29",
         "24448.69",
         "April 23 2018",
         "Monday, 2018-04-23",
         "23-Apr-18",
         "2018-04-23 00:00:00",
         "04",
         "17",
         "April",
         "Monday"
        ],
        [
         "14",
         "4/24/2018",
         "2634.56",
         "24024.13",
         "April 24 2018",
         "Tuesday, 2018-04-24",
         "24-Apr-18",
         "2018-04-24 00:00:00",
         "04",
         "17",
         "April",
         "Tuesday"
        ],
        [
         "15",
         "4/25/2018",
         "2639.4",
         "24083.83",
         "April 25 2018",
         "Wednesday, 2018-04-25",
         "25-Apr-18",
         "2018-04-25 00:00:00",
         "04",
         "17",
         "April",
         "Wednesday"
        ],
        [
         "16",
         "4/26/2018",
         "2666.94",
         "24322.34",
         "April 26 2018",
         "Thursday, 2018-04-26",
         "26-Apr-18",
         "2018-04-26 00:00:00",
         "04",
         "17",
         "April",
         "Thursday"
        ],
        [
         "17",
         "4/27/2018",
         "2669.91",
         "24311.19",
         "April 27 2018",
         "Friday, 2018-04-27",
         "27-Apr-18",
         "2018-04-27 00:00:00",
         "04",
         "17",
         "April",
         "Friday"
        ],
        [
         "18",
         "4/30/2018",
         "2648.05",
         "24163.15",
         "April 30 2018",
         "Monday, 2018-04-30",
         "30-Apr-18",
         "2018-04-30 00:00:00",
         "04",
         "18",
         "April",
         "Monday"
        ],
        [
         "19",
         "5/1/2018",
         "2654.8",
         "24099.05",
         "May 01 2018",
         "Tuesday, 2018-05-01",
         "1-May-18",
         "2018-05-01 00:00:00",
         "05",
         "18",
         "May",
         "Tuesday"
        ],
        [
         "20",
         "5/2/2018",
         "2635.67",
         "23924.98",
         "May 02 2018",
         "Wednesday, 2018-05-02",
         "2-May-18",
         "2018-05-02 00:00:00",
         "05",
         "18",
         "May",
         "Wednesday"
        ],
        [
         "21",
         "5/3/2018",
         "2629.73",
         "23930.15",
         "May 03 2018",
         "Thursday, 2018-05-03",
         "3-May-18",
         "2018-05-03 00:00:00",
         "05",
         "18",
         "May",
         "Thursday"
        ],
        [
         "22",
         "5/4/2018",
         "2663.42",
         "24262.51",
         "May 04 2018",
         "Friday, 2018-05-04",
         "4-May-18",
         "2018-05-04 00:00:00",
         "05",
         "18",
         "May",
         "Friday"
        ],
        [
         "23",
         "5/7/2018",
         "2672.63",
         "24357.32",
         "May 07 2018",
         "Monday, 2018-05-07",
         "7-May-18",
         "2018-05-07 00:00:00",
         "05",
         "19",
         "May",
         "Monday"
        ],
        [
         "24",
         "5/8/2018",
         "2671.92",
         "24360.21",
         "May 08 2018",
         "Tuesday, 2018-05-08",
         "8-May-18",
         "2018-05-08 00:00:00",
         "05",
         "19",
         "May",
         "Tuesday"
        ],
        [
         "25",
         "5/9/2018",
         "2697.79",
         "24542.54",
         "May 09 2018",
         "Wednesday, 2018-05-09",
         "9-May-18",
         "2018-05-09 00:00:00",
         "05",
         "19",
         "May",
         "Wednesday"
        ],
        [
         "26",
         "5/10/2018",
         "2723.07",
         "24739.53",
         "May 10 2018",
         "Thursday, 2018-05-10",
         "10-May-18",
         "2018-05-10 00:00:00",
         "05",
         "19",
         "May",
         "Thursday"
        ],
        [
         "27",
         "5/11/2018",
         "2727.72",
         "24831.17",
         "May 11 2018",
         "Friday, 2018-05-11",
         "11-May-18",
         "2018-05-11 00:00:00",
         "05",
         "19",
         "May",
         "Friday"
        ],
        [
         "28",
         "5/14/2018",
         "2730.13",
         "24899.41",
         "May 14 2018",
         "Monday, 2018-05-14",
         "14-May-18",
         "2018-05-14 00:00:00",
         "05",
         "20",
         "May",
         "Monday"
        ],
        [
         "29",
         "5/15/2018",
         "2711.45",
         "24706.41",
         "May 15 2018",
         "Tuesday, 2018-05-15",
         "15-May-18",
         "2018-05-15 00:00:00",
         "05",
         "20",
         "May",
         "Tuesday"
        ],
        [
         "30",
         "5/16/2018",
         "2722.46",
         "24768.93",
         "May 16 2018",
         "Wednesday, 2018-05-16",
         "16-May-18",
         "2018-05-16 00:00:00",
         "05",
         "20",
         "May",
         "Wednesday"
        ],
        [
         "31",
         "5/17/2018",
         "2720.13",
         "24713.98",
         "May 17 2018",
         "Thursday, 2018-05-17",
         "17-May-18",
         "2018-05-17 00:00:00",
         "05",
         "20",
         "May",
         "Thursday"
        ],
        [
         "32",
         "5/18/2018",
         "2712.97",
         "24715.09",
         "May 18 2018",
         "Friday, 2018-05-18",
         "18-May-18",
         "2018-05-18 00:00:00",
         "05",
         "20",
         "May",
         "Friday"
        ],
        [
         "33",
         "5/21/2018",
         "2733.01",
         "25013.29",
         "May 21 2018",
         "Monday, 2018-05-21",
         "21-May-18",
         "2018-05-21 00:00:00",
         "05",
         "21",
         "May",
         "Monday"
        ],
        [
         "34",
         "5/22/2018",
         "2724.44",
         "24834.41",
         "May 22 2018",
         "Tuesday, 2018-05-22",
         "22-May-18",
         "2018-05-22 00:00:00",
         "05",
         "21",
         "May",
         "Tuesday"
        ],
        [
         "35",
         "5/23/2018",
         "2733.29",
         "24886.81",
         "May 23 2018",
         "Wednesday, 2018-05-23",
         "23-May-18",
         "2018-05-23 00:00:00",
         "05",
         "21",
         "May",
         "Wednesday"
        ],
        [
         "36",
         "5/24/2018",
         "2727.76",
         "24811.76",
         "May 24 2018",
         "Thursday, 2018-05-24",
         "24-May-18",
         "2018-05-24 00:00:00",
         "05",
         "21",
         "May",
         "Thursday"
        ],
        [
         "37",
         "5/25/2018",
         "2721.33",
         "24753.09",
         "May 25 2018",
         "Friday, 2018-05-25",
         "25-May-18",
         "2018-05-25 00:00:00",
         "05",
         "21",
         "May",
         "Friday"
        ],
        [
         "38",
         "5/28/2018",
         null,
         null,
         "May 28 2018",
         "Monday, 2018-05-28",
         "28-May-18",
         "2018-05-28 00:00:00",
         "05",
         "22",
         "May",
         "Monday"
        ],
        [
         "39",
         "5/29/2018",
         "2689.86",
         "24361.45",
         "May 29 2018",
         "Tuesday, 2018-05-29",
         "29-May-18",
         "2018-05-29 00:00:00",
         "05",
         "22",
         "May",
         "Tuesday"
        ],
        [
         "40",
         "5/30/2018",
         "2724.01",
         "24667.78",
         "May 30 2018",
         "Wednesday, 2018-05-30",
         "30-May-18",
         "2018-05-30 00:00:00",
         "05",
         "22",
         "May",
         "Wednesday"
        ],
        [
         "41",
         "5/31/2018",
         "2705.27",
         "24415.84",
         "May 31 2018",
         "Thursday, 2018-05-31",
         "31-May-18",
         "2018-05-31 00:00:00",
         "05",
         "22",
         "May",
         "Thursday"
        ],
        [
         "42",
         "6/1/2018",
         "2734.62",
         "24635.21",
         "June 01 2018",
         "Friday, 2018-06-01",
         "1-Jun-18",
         "2018-06-01 00:00:00",
         "06",
         "22",
         "June",
         "Friday"
        ],
        [
         "43",
         "6/4/2018",
         "2746.87",
         "24813.69",
         "June 04 2018",
         "Monday, 2018-06-04",
         "4-Jun-18",
         "2018-06-04 00:00:00",
         "06",
         "23",
         "June",
         "Monday"
        ],
        [
         "44",
         "6/5/2018",
         "2748.8",
         "24799.98",
         "June 05 2018",
         "Tuesday, 2018-06-05",
         "5-Jun-18",
         "2018-06-05 00:00:00",
         "06",
         "23",
         "June",
         "Tuesday"
        ],
        [
         "45",
         "6/6/2018",
         "2772.35",
         "25146.39",
         "June 06 2018",
         "Wednesday, 2018-06-06",
         "6-Jun-18",
         "2018-06-06 00:00:00",
         "06",
         "23",
         "June",
         "Wednesday"
        ],
        [
         "46",
         "6/7/2018",
         "2770.37",
         "25241.41",
         "June 07 2018",
         "Thursday, 2018-06-07",
         "7-Jun-18",
         "2018-06-07 00:00:00",
         "06",
         "23",
         "June",
         "Thursday"
        ],
        [
         "47",
         "6/8/2018",
         "2779.03",
         "25316.53",
         "June 08 2018",
         "Friday, 2018-06-08",
         "8-Jun-18",
         "2018-06-08 00:00:00",
         "06",
         "23",
         "June",
         "Friday"
        ],
        [
         "48",
         "6/11/2018",
         "2782.0",
         "25322.31",
         "June 11 2018",
         "Monday, 2018-06-11",
         "11-Jun-18",
         "2018-06-11 00:00:00",
         "06",
         "24",
         "June",
         "Monday"
        ],
        [
         "49",
         "6/12/2018",
         "2786.85",
         "25320.73",
         "June 12 2018",
         "Tuesday, 2018-06-12",
         "12-Jun-18",
         "2018-06-12 00:00:00",
         "06",
         "24",
         "June",
         "Tuesday"
        ]
       ],
       "shape": {
        "columns": 11,
        "rows": 1305
       }
      },
      "text/html": [
       "<div>\n",
       "<style scoped>\n",
       "    .dataframe tbody tr th:only-of-type {\n",
       "        vertical-align: middle;\n",
       "    }\n",
       "\n",
       "    .dataframe tbody tr th {\n",
       "        vertical-align: top;\n",
       "    }\n",
       "\n",
       "    .dataframe thead th {\n",
       "        text-align: right;\n",
       "    }\n",
       "</style>\n",
       "<table border=\"1\" class=\"dataframe\">\n",
       "  <thead>\n",
       "    <tr style=\"text-align: right;\">\n",
       "      <th></th>\n",
       "      <th>date_str</th>\n",
       "      <th>sp500</th>\n",
       "      <th>djia</th>\n",
       "      <th>date_ex1</th>\n",
       "      <th>date_ex2</th>\n",
       "      <th>date_ex3</th>\n",
       "      <th>date</th>\n",
       "      <th>month_str</th>\n",
       "      <th>week_str</th>\n",
       "      <th>monthname</th>\n",
       "      <th>weekdayname</th>\n",
       "    </tr>\n",
       "  </thead>\n",
       "  <tbody>\n",
       "    <tr>\n",
       "      <th>0</th>\n",
       "      <td>4/4/2018</td>\n",
       "      <td>2644.69</td>\n",
       "      <td>24264.30</td>\n",
       "      <td>April 04 2018</td>\n",
       "      <td>Wednesday, 2018-04-04</td>\n",
       "      <td>4-Apr-18</td>\n",
       "      <td>2018-04-04</td>\n",
       "      <td>04</td>\n",
       "      <td>14</td>\n",
       "      <td>April</td>\n",
       "      <td>Wednesday</td>\n",
       "    </tr>\n",
       "    <tr>\n",
       "      <th>1</th>\n",
       "      <td>4/5/2018</td>\n",
       "      <td>2662.84</td>\n",
       "      <td>24505.22</td>\n",
       "      <td>April 05 2018</td>\n",
       "      <td>Thursday, 2018-04-05</td>\n",
       "      <td>5-Apr-18</td>\n",
       "      <td>2018-04-05</td>\n",
       "      <td>04</td>\n",
       "      <td>14</td>\n",
       "      <td>April</td>\n",
       "      <td>Thursday</td>\n",
       "    </tr>\n",
       "    <tr>\n",
       "      <th>2</th>\n",
       "      <td>4/6/2018</td>\n",
       "      <td>2604.47</td>\n",
       "      <td>23932.76</td>\n",
       "      <td>April 06 2018</td>\n",
       "      <td>Friday, 2018-04-06</td>\n",
       "      <td>6-Apr-18</td>\n",
       "      <td>2018-04-06</td>\n",
       "      <td>04</td>\n",
       "      <td>14</td>\n",
       "      <td>April</td>\n",
       "      <td>Friday</td>\n",
       "    </tr>\n",
       "    <tr>\n",
       "      <th>3</th>\n",
       "      <td>4/9/2018</td>\n",
       "      <td>2613.16</td>\n",
       "      <td>23979.10</td>\n",
       "      <td>April 09 2018</td>\n",
       "      <td>Monday, 2018-04-09</td>\n",
       "      <td>9-Apr-18</td>\n",
       "      <td>2018-04-09</td>\n",
       "      <td>04</td>\n",
       "      <td>15</td>\n",
       "      <td>April</td>\n",
       "      <td>Monday</td>\n",
       "    </tr>\n",
       "    <tr>\n",
       "      <th>4</th>\n",
       "      <td>4/10/2018</td>\n",
       "      <td>2656.87</td>\n",
       "      <td>24408.00</td>\n",
       "      <td>April 10 2018</td>\n",
       "      <td>Tuesday, 2018-04-10</td>\n",
       "      <td>10-Apr-18</td>\n",
       "      <td>2018-04-10</td>\n",
       "      <td>04</td>\n",
       "      <td>15</td>\n",
       "      <td>April</td>\n",
       "      <td>Tuesday</td>\n",
       "    </tr>\n",
       "    <tr>\n",
       "      <th>...</th>\n",
       "      <td>...</td>\n",
       "      <td>...</td>\n",
       "      <td>...</td>\n",
       "      <td>...</td>\n",
       "      <td>...</td>\n",
       "      <td>...</td>\n",
       "      <td>...</td>\n",
       "      <td>...</td>\n",
       "      <td>...</td>\n",
       "      <td>...</td>\n",
       "      <td>...</td>\n",
       "    </tr>\n",
       "    <tr>\n",
       "      <th>1300</th>\n",
       "      <td>3/29/2023</td>\n",
       "      <td>4027.81</td>\n",
       "      <td>32717.60</td>\n",
       "      <td>March 29 2023</td>\n",
       "      <td>Wednesday, 2023-03-29</td>\n",
       "      <td>29-Mar-23</td>\n",
       "      <td>2023-03-29</td>\n",
       "      <td>03</td>\n",
       "      <td>13</td>\n",
       "      <td>March</td>\n",
       "      <td>Wednesday</td>\n",
       "    </tr>\n",
       "    <tr>\n",
       "      <th>1301</th>\n",
       "      <td>3/30/2023</td>\n",
       "      <td>4050.83</td>\n",
       "      <td>32859.03</td>\n",
       "      <td>March 30 2023</td>\n",
       "      <td>Thursday, 2023-03-30</td>\n",
       "      <td>30-Mar-23</td>\n",
       "      <td>2023-03-30</td>\n",
       "      <td>03</td>\n",
       "      <td>13</td>\n",
       "      <td>March</td>\n",
       "      <td>Thursday</td>\n",
       "    </tr>\n",
       "    <tr>\n",
       "      <th>1302</th>\n",
       "      <td>3/31/2023</td>\n",
       "      <td>4109.31</td>\n",
       "      <td>33274.15</td>\n",
       "      <td>March 31 2023</td>\n",
       "      <td>Friday, 2023-03-31</td>\n",
       "      <td>31-Mar-23</td>\n",
       "      <td>2023-03-31</td>\n",
       "      <td>03</td>\n",
       "      <td>13</td>\n",
       "      <td>March</td>\n",
       "      <td>Friday</td>\n",
       "    </tr>\n",
       "    <tr>\n",
       "      <th>1303</th>\n",
       "      <td>4/3/2023</td>\n",
       "      <td>4124.51</td>\n",
       "      <td>33601.15</td>\n",
       "      <td>April 03 2023</td>\n",
       "      <td>Monday, 2023-04-03</td>\n",
       "      <td>3-Apr-23</td>\n",
       "      <td>2023-04-03</td>\n",
       "      <td>04</td>\n",
       "      <td>14</td>\n",
       "      <td>April</td>\n",
       "      <td>Monday</td>\n",
       "    </tr>\n",
       "    <tr>\n",
       "      <th>1304</th>\n",
       "      <td>4/4/2023</td>\n",
       "      <td>4100.60</td>\n",
       "      <td>33402.38</td>\n",
       "      <td>April 04 2023</td>\n",
       "      <td>Tuesday, 2023-04-04</td>\n",
       "      <td>4-Apr-23</td>\n",
       "      <td>2023-04-04</td>\n",
       "      <td>04</td>\n",
       "      <td>14</td>\n",
       "      <td>April</td>\n",
       "      <td>Tuesday</td>\n",
       "    </tr>\n",
       "  </tbody>\n",
       "</table>\n",
       "<p>1305 rows × 11 columns</p>\n",
       "</div>"
      ],
      "text/plain": [
       "       date_str    sp500      djia       date_ex1               date_ex2  \\\n",
       "0      4/4/2018  2644.69  24264.30  April 04 2018  Wednesday, 2018-04-04   \n",
       "1      4/5/2018  2662.84  24505.22  April 05 2018   Thursday, 2018-04-05   \n",
       "2      4/6/2018  2604.47  23932.76  April 06 2018     Friday, 2018-04-06   \n",
       "3      4/9/2018  2613.16  23979.10  April 09 2018     Monday, 2018-04-09   \n",
       "4     4/10/2018  2656.87  24408.00  April 10 2018    Tuesday, 2018-04-10   \n",
       "...         ...      ...       ...            ...                    ...   \n",
       "1300  3/29/2023  4027.81  32717.60  March 29 2023  Wednesday, 2023-03-29   \n",
       "1301  3/30/2023  4050.83  32859.03  March 30 2023   Thursday, 2023-03-30   \n",
       "1302  3/31/2023  4109.31  33274.15  March 31 2023     Friday, 2023-03-31   \n",
       "1303   4/3/2023  4124.51  33601.15  April 03 2023     Monday, 2023-04-03   \n",
       "1304   4/4/2023  4100.60  33402.38  April 04 2023    Tuesday, 2023-04-04   \n",
       "\n",
       "       date_ex3       date month_str week_str monthname weekdayname  \n",
       "0      4-Apr-18 2018-04-04        04       14     April   Wednesday  \n",
       "1      5-Apr-18 2018-04-05        04       14     April    Thursday  \n",
       "2      6-Apr-18 2018-04-06        04       14     April      Friday  \n",
       "3      9-Apr-18 2018-04-09        04       15     April      Monday  \n",
       "4     10-Apr-18 2018-04-10        04       15     April     Tuesday  \n",
       "...         ...        ...       ...      ...       ...         ...  \n",
       "1300  29-Mar-23 2023-03-29        03       13     March   Wednesday  \n",
       "1301  30-Mar-23 2023-03-30        03       13     March    Thursday  \n",
       "1302  31-Mar-23 2023-03-31        03       13     March      Friday  \n",
       "1303   3-Apr-23 2023-04-03        04       14     April      Monday  \n",
       "1304   4-Apr-23 2023-04-04        04       14     April     Tuesday  \n",
       "\n",
       "[1305 rows x 11 columns]"
      ]
     },
     "execution_count": 8,
     "metadata": {},
     "output_type": "execute_result"
    }
   ],
   "source": [
    "financial[\"monthname\"]   =  financial[\"date\"].dt.strftime(\"%B\")\n",
    "financial[\"weekdayname\"] =  financial[\"date\"].dt.strftime(\"%A\")\n",
    "\n",
    "financial"
   ]
  },
  {
   "attachments": {},
   "cell_type": "markdown",
   "metadata": {},
   "source": [
    "<font size = \"5\">\n",
    "\n",
    "Personalized format"
   ]
  },
  {
   "cell_type": "code",
   "execution_count": 18,
   "metadata": {},
   "outputs": [
    {
     "name": "stdout",
     "output_type": "stream",
     "text": [
      "0       This is the month of April\n",
      "1       This is the month of April\n",
      "2       This is the month of April\n",
      "3       This is the month of April\n",
      "4       This is the month of April\n",
      "                   ...            \n",
      "1300    This is the month of March\n",
      "1301    This is the month of March\n",
      "1302    This is the month of March\n",
      "1303    This is the month of April\n",
      "1304    This is the month of April\n",
      "Name: date, Length: 1305, dtype: object\n",
      "0       The day of the week is Wednesday\n",
      "1        The day of the week is Thursday\n",
      "2          The day of the week is Friday\n",
      "3          The day of the week is Monday\n",
      "4         The day of the week is Tuesday\n",
      "                      ...               \n",
      "1300    The day of the week is Wednesday\n",
      "1301     The day of the week is Thursday\n",
      "1302       The day of the week is Friday\n",
      "1303       The day of the week is Monday\n",
      "1304      The day of the week is Tuesday\n",
      "Name: date, Length: 1305, dtype: object\n",
      "0       2018-04\n",
      "1       2018-04\n",
      "2       2018-04\n",
      "3       2018-04\n",
      "4       2018-04\n",
      "         ...   \n",
      "1300    2023-03\n",
      "1301    2023-03\n",
      "1302    2023-03\n",
      "1303    2023-04\n",
      "1304    2023-04\n",
      "Name: date, Length: 1305, dtype: object\n"
     ]
    }
   ],
   "source": [
    "# Insert wildcards inside custom strings\n",
    "# Internally it will \"fill-in-the-blank\" with the corresponding information\n",
    "# You can use commas, dashes (--), slash (/) or other characters\n",
    "\n",
    "message_monthname =  financial[\"date\"].dt.strftime(\"This is the month of %B\")\n",
    "\n",
    "message_monthday  =  financial[\"date\"].dt.strftime(\"The day of the week is %A\")\n",
    "\n",
    "message_yearmonth =  financial[\"date\"].dt.strftime(\"%Y-%m\")\n",
    "\n",
    "\n",
    "print(message_monthname)\n",
    "print(message_monthday)\n",
    "print(message_yearmonth)\n"
   ]
  },
  {
   "attachments": {},
   "cell_type": "markdown",
   "metadata": {},
   "source": [
    "<font size = \"5\">\n",
    "\n",
    "Try it yourself!\n",
    "\n",
    "- Create a new column called \"date_test\" <br>\n",
    "  which has the format using ```.dt.strftime()```\n",
    "  \n",
    "$\\quad$ ```Monday, December 31, 2023 ```"
   ]
  },
  {
   "cell_type": "code",
   "execution_count": 9,
   "metadata": {},
   "outputs": [
    {
     "data": {
      "text/plain": [
       "0       Wednesday, April 04, 2018\n",
       "1        Thursday, April 05, 2018\n",
       "2          Friday, April 06, 2018\n",
       "3          Monday, April 09, 2018\n",
       "4         Tuesday, April 10, 2018\n",
       "                  ...            \n",
       "1300    Wednesday, March 29, 2023\n",
       "1301     Thursday, March 30, 2023\n",
       "1302       Friday, March 31, 2023\n",
       "1303       Monday, April 03, 2023\n",
       "1304      Tuesday, April 04, 2023\n",
       "Name: date, Length: 1305, dtype: object"
      ]
     },
     "execution_count": 9,
     "metadata": {},
     "output_type": "execute_result"
    }
   ],
   "source": [
    "# Write your own code\n",
    "\n",
    "date_test = financial[\"date\"].dt.strftime(\"%A, %B %d, %Y\")\n",
    "\n",
    "date_test\n"
   ]
  },
  {
   "attachments": {},
   "cell_type": "markdown",
   "metadata": {},
   "source": [
    "# <span style=\"color:darkblue\"> III. Data Operations </span>"
   ]
  },
  {
   "attachments": {},
   "cell_type": "markdown",
   "metadata": {},
   "source": [
    "<font size = \"5\">\n",
    "\n",
    "Parsing + wild cards\n",
    "\n",
    "$\\quad$ <img src=\"figures/wildcards_fig3.png\" alt=\"drawing\" width=\"400\"/>"
   ]
  },
  {
   "cell_type": "code",
   "execution_count": 13,
   "metadata": {},
   "outputs": [
    {
     "data": {
      "application/vnd.microsoft.datawrangler.viewer.v0+json": {
       "columns": [
        {
         "name": "index",
         "rawType": "int64",
         "type": "integer"
        },
        {
         "name": "date_str",
         "rawType": "object",
         "type": "string"
        },
        {
         "name": "sp500",
         "rawType": "float64",
         "type": "float"
        },
        {
         "name": "djia",
         "rawType": "float64",
         "type": "float"
        },
        {
         "name": "date_ex1",
         "rawType": "object",
         "type": "string"
        },
        {
         "name": "date_ex2",
         "rawType": "object",
         "type": "string"
        },
        {
         "name": "date_ex3",
         "rawType": "object",
         "type": "string"
        },
        {
         "name": "date",
         "rawType": "datetime64[ns]",
         "type": "datetime"
        },
        {
         "name": "month_str",
         "rawType": "object",
         "type": "string"
        },
        {
         "name": "week_str",
         "rawType": "object",
         "type": "string"
        },
        {
         "name": "monthname",
         "rawType": "object",
         "type": "string"
        },
        {
         "name": "weekdayname",
         "rawType": "object",
         "type": "string"
        },
        {
         "name": "date_ex1_dt",
         "rawType": "datetime64[ns]",
         "type": "datetime"
        },
        {
         "name": "date_ex2_dt",
         "rawType": "datetime64[ns]",
         "type": "datetime"
        }
       ],
       "conversionMethod": "pd.DataFrame",
       "ref": "875cd9ee-368c-4a5d-92d6-4de97e31c606",
       "rows": [
        [
         "0",
         "4/4/2018",
         "2644.69",
         "24264.3",
         "April 04 2018",
         "Wednesday, 2018-04-04",
         "4-Apr-18",
         "2018-04-04 00:00:00",
         "04",
         "14",
         "April",
         "Wednesday",
         "2018-04-04 00:00:00",
         "2018-04-04 00:00:00"
        ],
        [
         "1",
         "4/5/2018",
         "2662.84",
         "24505.22",
         "April 05 2018",
         "Thursday, 2018-04-05",
         "5-Apr-18",
         "2018-04-05 00:00:00",
         "04",
         "14",
         "April",
         "Thursday",
         "2018-04-05 00:00:00",
         "2018-04-05 00:00:00"
        ],
        [
         "2",
         "4/6/2018",
         "2604.47",
         "23932.76",
         "April 06 2018",
         "Friday, 2018-04-06",
         "6-Apr-18",
         "2018-04-06 00:00:00",
         "04",
         "14",
         "April",
         "Friday",
         "2018-04-06 00:00:00",
         "2018-04-06 00:00:00"
        ],
        [
         "3",
         "4/9/2018",
         "2613.16",
         "23979.1",
         "April 09 2018",
         "Monday, 2018-04-09",
         "9-Apr-18",
         "2018-04-09 00:00:00",
         "04",
         "15",
         "April",
         "Monday",
         "2018-04-09 00:00:00",
         "2018-04-09 00:00:00"
        ],
        [
         "4",
         "4/10/2018",
         "2656.87",
         "24408.0",
         "April 10 2018",
         "Tuesday, 2018-04-10",
         "10-Apr-18",
         "2018-04-10 00:00:00",
         "04",
         "15",
         "April",
         "Tuesday",
         "2018-04-10 00:00:00",
         "2018-04-10 00:00:00"
        ],
        [
         "5",
         "4/11/2018",
         "2642.19",
         "24189.45",
         "April 11 2018",
         "Wednesday, 2018-04-11",
         "11-Apr-18",
         "2018-04-11 00:00:00",
         "04",
         "15",
         "April",
         "Wednesday",
         "2018-04-11 00:00:00",
         "2018-04-11 00:00:00"
        ],
        [
         "6",
         "4/12/2018",
         "2663.99",
         "24483.05",
         "April 12 2018",
         "Thursday, 2018-04-12",
         "12-Apr-18",
         "2018-04-12 00:00:00",
         "04",
         "15",
         "April",
         "Thursday",
         "2018-04-12 00:00:00",
         "2018-04-12 00:00:00"
        ],
        [
         "7",
         "4/13/2018",
         "2656.3",
         "24360.14",
         "April 13 2018",
         "Friday, 2018-04-13",
         "13-Apr-18",
         "2018-04-13 00:00:00",
         "04",
         "15",
         "April",
         "Friday",
         "2018-04-13 00:00:00",
         "2018-04-13 00:00:00"
        ],
        [
         "8",
         "4/16/2018",
         "2677.84",
         "24573.04",
         "April 16 2018",
         "Monday, 2018-04-16",
         "16-Apr-18",
         "2018-04-16 00:00:00",
         "04",
         "16",
         "April",
         "Monday",
         "2018-04-16 00:00:00",
         "2018-04-16 00:00:00"
        ],
        [
         "9",
         "4/17/2018",
         "2706.39",
         "24786.63",
         "April 17 2018",
         "Tuesday, 2018-04-17",
         "17-Apr-18",
         "2018-04-17 00:00:00",
         "04",
         "16",
         "April",
         "Tuesday",
         "2018-04-17 00:00:00",
         "2018-04-17 00:00:00"
        ],
        [
         "10",
         "4/18/2018",
         "2708.64",
         "24748.07",
         "April 18 2018",
         "Wednesday, 2018-04-18",
         "18-Apr-18",
         "2018-04-18 00:00:00",
         "04",
         "16",
         "April",
         "Wednesday",
         "2018-04-18 00:00:00",
         "2018-04-18 00:00:00"
        ],
        [
         "11",
         "4/19/2018",
         "2693.13",
         "24664.89",
         "April 19 2018",
         "Thursday, 2018-04-19",
         "19-Apr-18",
         "2018-04-19 00:00:00",
         "04",
         "16",
         "April",
         "Thursday",
         "2018-04-19 00:00:00",
         "2018-04-19 00:00:00"
        ],
        [
         "12",
         "4/20/2018",
         "2670.14",
         "24462.94",
         "April 20 2018",
         "Friday, 2018-04-20",
         "20-Apr-18",
         "2018-04-20 00:00:00",
         "04",
         "16",
         "April",
         "Friday",
         "2018-04-20 00:00:00",
         "2018-04-20 00:00:00"
        ],
        [
         "13",
         "4/23/2018",
         "2670.29",
         "24448.69",
         "April 23 2018",
         "Monday, 2018-04-23",
         "23-Apr-18",
         "2018-04-23 00:00:00",
         "04",
         "17",
         "April",
         "Monday",
         "2018-04-23 00:00:00",
         "2018-04-23 00:00:00"
        ],
        [
         "14",
         "4/24/2018",
         "2634.56",
         "24024.13",
         "April 24 2018",
         "Tuesday, 2018-04-24",
         "24-Apr-18",
         "2018-04-24 00:00:00",
         "04",
         "17",
         "April",
         "Tuesday",
         "2018-04-24 00:00:00",
         "2018-04-24 00:00:00"
        ],
        [
         "15",
         "4/25/2018",
         "2639.4",
         "24083.83",
         "April 25 2018",
         "Wednesday, 2018-04-25",
         "25-Apr-18",
         "2018-04-25 00:00:00",
         "04",
         "17",
         "April",
         "Wednesday",
         "2018-04-25 00:00:00",
         "2018-04-25 00:00:00"
        ],
        [
         "16",
         "4/26/2018",
         "2666.94",
         "24322.34",
         "April 26 2018",
         "Thursday, 2018-04-26",
         "26-Apr-18",
         "2018-04-26 00:00:00",
         "04",
         "17",
         "April",
         "Thursday",
         "2018-04-26 00:00:00",
         "2018-04-26 00:00:00"
        ],
        [
         "17",
         "4/27/2018",
         "2669.91",
         "24311.19",
         "April 27 2018",
         "Friday, 2018-04-27",
         "27-Apr-18",
         "2018-04-27 00:00:00",
         "04",
         "17",
         "April",
         "Friday",
         "2018-04-27 00:00:00",
         "2018-04-27 00:00:00"
        ],
        [
         "18",
         "4/30/2018",
         "2648.05",
         "24163.15",
         "April 30 2018",
         "Monday, 2018-04-30",
         "30-Apr-18",
         "2018-04-30 00:00:00",
         "04",
         "18",
         "April",
         "Monday",
         "2018-04-30 00:00:00",
         "2018-04-30 00:00:00"
        ],
        [
         "19",
         "5/1/2018",
         "2654.8",
         "24099.05",
         "May 01 2018",
         "Tuesday, 2018-05-01",
         "1-May-18",
         "2018-05-01 00:00:00",
         "05",
         "18",
         "May",
         "Tuesday",
         "2018-05-01 00:00:00",
         "2018-05-01 00:00:00"
        ],
        [
         "20",
         "5/2/2018",
         "2635.67",
         "23924.98",
         "May 02 2018",
         "Wednesday, 2018-05-02",
         "2-May-18",
         "2018-05-02 00:00:00",
         "05",
         "18",
         "May",
         "Wednesday",
         "2018-05-02 00:00:00",
         "2018-05-02 00:00:00"
        ],
        [
         "21",
         "5/3/2018",
         "2629.73",
         "23930.15",
         "May 03 2018",
         "Thursday, 2018-05-03",
         "3-May-18",
         "2018-05-03 00:00:00",
         "05",
         "18",
         "May",
         "Thursday",
         "2018-05-03 00:00:00",
         "2018-05-03 00:00:00"
        ],
        [
         "22",
         "5/4/2018",
         "2663.42",
         "24262.51",
         "May 04 2018",
         "Friday, 2018-05-04",
         "4-May-18",
         "2018-05-04 00:00:00",
         "05",
         "18",
         "May",
         "Friday",
         "2018-05-04 00:00:00",
         "2018-05-04 00:00:00"
        ],
        [
         "23",
         "5/7/2018",
         "2672.63",
         "24357.32",
         "May 07 2018",
         "Monday, 2018-05-07",
         "7-May-18",
         "2018-05-07 00:00:00",
         "05",
         "19",
         "May",
         "Monday",
         "2018-05-07 00:00:00",
         "2018-05-07 00:00:00"
        ],
        [
         "24",
         "5/8/2018",
         "2671.92",
         "24360.21",
         "May 08 2018",
         "Tuesday, 2018-05-08",
         "8-May-18",
         "2018-05-08 00:00:00",
         "05",
         "19",
         "May",
         "Tuesday",
         "2018-05-08 00:00:00",
         "2018-05-08 00:00:00"
        ],
        [
         "25",
         "5/9/2018",
         "2697.79",
         "24542.54",
         "May 09 2018",
         "Wednesday, 2018-05-09",
         "9-May-18",
         "2018-05-09 00:00:00",
         "05",
         "19",
         "May",
         "Wednesday",
         "2018-05-09 00:00:00",
         "2018-05-09 00:00:00"
        ],
        [
         "26",
         "5/10/2018",
         "2723.07",
         "24739.53",
         "May 10 2018",
         "Thursday, 2018-05-10",
         "10-May-18",
         "2018-05-10 00:00:00",
         "05",
         "19",
         "May",
         "Thursday",
         "2018-05-10 00:00:00",
         "2018-05-10 00:00:00"
        ],
        [
         "27",
         "5/11/2018",
         "2727.72",
         "24831.17",
         "May 11 2018",
         "Friday, 2018-05-11",
         "11-May-18",
         "2018-05-11 00:00:00",
         "05",
         "19",
         "May",
         "Friday",
         "2018-05-11 00:00:00",
         "2018-05-11 00:00:00"
        ],
        [
         "28",
         "5/14/2018",
         "2730.13",
         "24899.41",
         "May 14 2018",
         "Monday, 2018-05-14",
         "14-May-18",
         "2018-05-14 00:00:00",
         "05",
         "20",
         "May",
         "Monday",
         "2018-05-14 00:00:00",
         "2018-05-14 00:00:00"
        ],
        [
         "29",
         "5/15/2018",
         "2711.45",
         "24706.41",
         "May 15 2018",
         "Tuesday, 2018-05-15",
         "15-May-18",
         "2018-05-15 00:00:00",
         "05",
         "20",
         "May",
         "Tuesday",
         "2018-05-15 00:00:00",
         "2018-05-15 00:00:00"
        ],
        [
         "30",
         "5/16/2018",
         "2722.46",
         "24768.93",
         "May 16 2018",
         "Wednesday, 2018-05-16",
         "16-May-18",
         "2018-05-16 00:00:00",
         "05",
         "20",
         "May",
         "Wednesday",
         "2018-05-16 00:00:00",
         "2018-05-16 00:00:00"
        ],
        [
         "31",
         "5/17/2018",
         "2720.13",
         "24713.98",
         "May 17 2018",
         "Thursday, 2018-05-17",
         "17-May-18",
         "2018-05-17 00:00:00",
         "05",
         "20",
         "May",
         "Thursday",
         "2018-05-17 00:00:00",
         "2018-05-17 00:00:00"
        ],
        [
         "32",
         "5/18/2018",
         "2712.97",
         "24715.09",
         "May 18 2018",
         "Friday, 2018-05-18",
         "18-May-18",
         "2018-05-18 00:00:00",
         "05",
         "20",
         "May",
         "Friday",
         "2018-05-18 00:00:00",
         "2018-05-18 00:00:00"
        ],
        [
         "33",
         "5/21/2018",
         "2733.01",
         "25013.29",
         "May 21 2018",
         "Monday, 2018-05-21",
         "21-May-18",
         "2018-05-21 00:00:00",
         "05",
         "21",
         "May",
         "Monday",
         "2018-05-21 00:00:00",
         "2018-05-21 00:00:00"
        ],
        [
         "34",
         "5/22/2018",
         "2724.44",
         "24834.41",
         "May 22 2018",
         "Tuesday, 2018-05-22",
         "22-May-18",
         "2018-05-22 00:00:00",
         "05",
         "21",
         "May",
         "Tuesday",
         "2018-05-22 00:00:00",
         "2018-05-22 00:00:00"
        ],
        [
         "35",
         "5/23/2018",
         "2733.29",
         "24886.81",
         "May 23 2018",
         "Wednesday, 2018-05-23",
         "23-May-18",
         "2018-05-23 00:00:00",
         "05",
         "21",
         "May",
         "Wednesday",
         "2018-05-23 00:00:00",
         "2018-05-23 00:00:00"
        ],
        [
         "36",
         "5/24/2018",
         "2727.76",
         "24811.76",
         "May 24 2018",
         "Thursday, 2018-05-24",
         "24-May-18",
         "2018-05-24 00:00:00",
         "05",
         "21",
         "May",
         "Thursday",
         "2018-05-24 00:00:00",
         "2018-05-24 00:00:00"
        ],
        [
         "37",
         "5/25/2018",
         "2721.33",
         "24753.09",
         "May 25 2018",
         "Friday, 2018-05-25",
         "25-May-18",
         "2018-05-25 00:00:00",
         "05",
         "21",
         "May",
         "Friday",
         "2018-05-25 00:00:00",
         "2018-05-25 00:00:00"
        ],
        [
         "38",
         "5/28/2018",
         null,
         null,
         "May 28 2018",
         "Monday, 2018-05-28",
         "28-May-18",
         "2018-05-28 00:00:00",
         "05",
         "22",
         "May",
         "Monday",
         "2018-05-28 00:00:00",
         "2018-05-28 00:00:00"
        ],
        [
         "39",
         "5/29/2018",
         "2689.86",
         "24361.45",
         "May 29 2018",
         "Tuesday, 2018-05-29",
         "29-May-18",
         "2018-05-29 00:00:00",
         "05",
         "22",
         "May",
         "Tuesday",
         "2018-05-29 00:00:00",
         "2018-05-29 00:00:00"
        ],
        [
         "40",
         "5/30/2018",
         "2724.01",
         "24667.78",
         "May 30 2018",
         "Wednesday, 2018-05-30",
         "30-May-18",
         "2018-05-30 00:00:00",
         "05",
         "22",
         "May",
         "Wednesday",
         "2018-05-30 00:00:00",
         "2018-05-30 00:00:00"
        ],
        [
         "41",
         "5/31/2018",
         "2705.27",
         "24415.84",
         "May 31 2018",
         "Thursday, 2018-05-31",
         "31-May-18",
         "2018-05-31 00:00:00",
         "05",
         "22",
         "May",
         "Thursday",
         "2018-05-31 00:00:00",
         "2018-05-31 00:00:00"
        ],
        [
         "42",
         "6/1/2018",
         "2734.62",
         "24635.21",
         "June 01 2018",
         "Friday, 2018-06-01",
         "1-Jun-18",
         "2018-06-01 00:00:00",
         "06",
         "22",
         "June",
         "Friday",
         "2018-06-01 00:00:00",
         "2018-06-01 00:00:00"
        ],
        [
         "43",
         "6/4/2018",
         "2746.87",
         "24813.69",
         "June 04 2018",
         "Monday, 2018-06-04",
         "4-Jun-18",
         "2018-06-04 00:00:00",
         "06",
         "23",
         "June",
         "Monday",
         "2018-06-04 00:00:00",
         "2018-06-04 00:00:00"
        ],
        [
         "44",
         "6/5/2018",
         "2748.8",
         "24799.98",
         "June 05 2018",
         "Tuesday, 2018-06-05",
         "5-Jun-18",
         "2018-06-05 00:00:00",
         "06",
         "23",
         "June",
         "Tuesday",
         "2018-06-05 00:00:00",
         "2018-06-05 00:00:00"
        ],
        [
         "45",
         "6/6/2018",
         "2772.35",
         "25146.39",
         "June 06 2018",
         "Wednesday, 2018-06-06",
         "6-Jun-18",
         "2018-06-06 00:00:00",
         "06",
         "23",
         "June",
         "Wednesday",
         "2018-06-06 00:00:00",
         "2018-06-06 00:00:00"
        ],
        [
         "46",
         "6/7/2018",
         "2770.37",
         "25241.41",
         "June 07 2018",
         "Thursday, 2018-06-07",
         "7-Jun-18",
         "2018-06-07 00:00:00",
         "06",
         "23",
         "June",
         "Thursday",
         "2018-06-07 00:00:00",
         "2018-06-07 00:00:00"
        ],
        [
         "47",
         "6/8/2018",
         "2779.03",
         "25316.53",
         "June 08 2018",
         "Friday, 2018-06-08",
         "8-Jun-18",
         "2018-06-08 00:00:00",
         "06",
         "23",
         "June",
         "Friday",
         "2018-06-08 00:00:00",
         "2018-06-08 00:00:00"
        ],
        [
         "48",
         "6/11/2018",
         "2782.0",
         "25322.31",
         "June 11 2018",
         "Monday, 2018-06-11",
         "11-Jun-18",
         "2018-06-11 00:00:00",
         "06",
         "24",
         "June",
         "Monday",
         "2018-06-11 00:00:00",
         "2018-06-11 00:00:00"
        ],
        [
         "49",
         "6/12/2018",
         "2786.85",
         "25320.73",
         "June 12 2018",
         "Tuesday, 2018-06-12",
         "12-Jun-18",
         "2018-06-12 00:00:00",
         "06",
         "24",
         "June",
         "Tuesday",
         "2018-06-12 00:00:00",
         "2018-06-12 00:00:00"
        ]
       ],
       "shape": {
        "columns": 13,
        "rows": 1305
       }
      },
      "text/html": [
       "<div>\n",
       "<style scoped>\n",
       "    .dataframe tbody tr th:only-of-type {\n",
       "        vertical-align: middle;\n",
       "    }\n",
       "\n",
       "    .dataframe tbody tr th {\n",
       "        vertical-align: top;\n",
       "    }\n",
       "\n",
       "    .dataframe thead th {\n",
       "        text-align: right;\n",
       "    }\n",
       "</style>\n",
       "<table border=\"1\" class=\"dataframe\">\n",
       "  <thead>\n",
       "    <tr style=\"text-align: right;\">\n",
       "      <th></th>\n",
       "      <th>date_str</th>\n",
       "      <th>sp500</th>\n",
       "      <th>djia</th>\n",
       "      <th>date_ex1</th>\n",
       "      <th>date_ex2</th>\n",
       "      <th>date_ex3</th>\n",
       "      <th>date</th>\n",
       "      <th>month_str</th>\n",
       "      <th>week_str</th>\n",
       "      <th>monthname</th>\n",
       "      <th>weekdayname</th>\n",
       "      <th>date_ex1_dt</th>\n",
       "      <th>date_ex2_dt</th>\n",
       "    </tr>\n",
       "  </thead>\n",
       "  <tbody>\n",
       "    <tr>\n",
       "      <th>0</th>\n",
       "      <td>4/4/2018</td>\n",
       "      <td>2644.69</td>\n",
       "      <td>24264.30</td>\n",
       "      <td>April 04 2018</td>\n",
       "      <td>Wednesday, 2018-04-04</td>\n",
       "      <td>4-Apr-18</td>\n",
       "      <td>2018-04-04</td>\n",
       "      <td>04</td>\n",
       "      <td>14</td>\n",
       "      <td>April</td>\n",
       "      <td>Wednesday</td>\n",
       "      <td>2018-04-04</td>\n",
       "      <td>2018-04-04</td>\n",
       "    </tr>\n",
       "    <tr>\n",
       "      <th>1</th>\n",
       "      <td>4/5/2018</td>\n",
       "      <td>2662.84</td>\n",
       "      <td>24505.22</td>\n",
       "      <td>April 05 2018</td>\n",
       "      <td>Thursday, 2018-04-05</td>\n",
       "      <td>5-Apr-18</td>\n",
       "      <td>2018-04-05</td>\n",
       "      <td>04</td>\n",
       "      <td>14</td>\n",
       "      <td>April</td>\n",
       "      <td>Thursday</td>\n",
       "      <td>2018-04-05</td>\n",
       "      <td>2018-04-05</td>\n",
       "    </tr>\n",
       "    <tr>\n",
       "      <th>2</th>\n",
       "      <td>4/6/2018</td>\n",
       "      <td>2604.47</td>\n",
       "      <td>23932.76</td>\n",
       "      <td>April 06 2018</td>\n",
       "      <td>Friday, 2018-04-06</td>\n",
       "      <td>6-Apr-18</td>\n",
       "      <td>2018-04-06</td>\n",
       "      <td>04</td>\n",
       "      <td>14</td>\n",
       "      <td>April</td>\n",
       "      <td>Friday</td>\n",
       "      <td>2018-04-06</td>\n",
       "      <td>2018-04-06</td>\n",
       "    </tr>\n",
       "    <tr>\n",
       "      <th>3</th>\n",
       "      <td>4/9/2018</td>\n",
       "      <td>2613.16</td>\n",
       "      <td>23979.10</td>\n",
       "      <td>April 09 2018</td>\n",
       "      <td>Monday, 2018-04-09</td>\n",
       "      <td>9-Apr-18</td>\n",
       "      <td>2018-04-09</td>\n",
       "      <td>04</td>\n",
       "      <td>15</td>\n",
       "      <td>April</td>\n",
       "      <td>Monday</td>\n",
       "      <td>2018-04-09</td>\n",
       "      <td>2018-04-09</td>\n",
       "    </tr>\n",
       "    <tr>\n",
       "      <th>4</th>\n",
       "      <td>4/10/2018</td>\n",
       "      <td>2656.87</td>\n",
       "      <td>24408.00</td>\n",
       "      <td>April 10 2018</td>\n",
       "      <td>Tuesday, 2018-04-10</td>\n",
       "      <td>10-Apr-18</td>\n",
       "      <td>2018-04-10</td>\n",
       "      <td>04</td>\n",
       "      <td>15</td>\n",
       "      <td>April</td>\n",
       "      <td>Tuesday</td>\n",
       "      <td>2018-04-10</td>\n",
       "      <td>2018-04-10</td>\n",
       "    </tr>\n",
       "    <tr>\n",
       "      <th>...</th>\n",
       "      <td>...</td>\n",
       "      <td>...</td>\n",
       "      <td>...</td>\n",
       "      <td>...</td>\n",
       "      <td>...</td>\n",
       "      <td>...</td>\n",
       "      <td>...</td>\n",
       "      <td>...</td>\n",
       "      <td>...</td>\n",
       "      <td>...</td>\n",
       "      <td>...</td>\n",
       "      <td>...</td>\n",
       "      <td>...</td>\n",
       "    </tr>\n",
       "    <tr>\n",
       "      <th>1300</th>\n",
       "      <td>3/29/2023</td>\n",
       "      <td>4027.81</td>\n",
       "      <td>32717.60</td>\n",
       "      <td>March 29 2023</td>\n",
       "      <td>Wednesday, 2023-03-29</td>\n",
       "      <td>29-Mar-23</td>\n",
       "      <td>2023-03-29</td>\n",
       "      <td>03</td>\n",
       "      <td>13</td>\n",
       "      <td>March</td>\n",
       "      <td>Wednesday</td>\n",
       "      <td>2023-03-29</td>\n",
       "      <td>2023-03-29</td>\n",
       "    </tr>\n",
       "    <tr>\n",
       "      <th>1301</th>\n",
       "      <td>3/30/2023</td>\n",
       "      <td>4050.83</td>\n",
       "      <td>32859.03</td>\n",
       "      <td>March 30 2023</td>\n",
       "      <td>Thursday, 2023-03-30</td>\n",
       "      <td>30-Mar-23</td>\n",
       "      <td>2023-03-30</td>\n",
       "      <td>03</td>\n",
       "      <td>13</td>\n",
       "      <td>March</td>\n",
       "      <td>Thursday</td>\n",
       "      <td>2023-03-30</td>\n",
       "      <td>2023-03-30</td>\n",
       "    </tr>\n",
       "    <tr>\n",
       "      <th>1302</th>\n",
       "      <td>3/31/2023</td>\n",
       "      <td>4109.31</td>\n",
       "      <td>33274.15</td>\n",
       "      <td>March 31 2023</td>\n",
       "      <td>Friday, 2023-03-31</td>\n",
       "      <td>31-Mar-23</td>\n",
       "      <td>2023-03-31</td>\n",
       "      <td>03</td>\n",
       "      <td>13</td>\n",
       "      <td>March</td>\n",
       "      <td>Friday</td>\n",
       "      <td>2023-03-31</td>\n",
       "      <td>2023-03-31</td>\n",
       "    </tr>\n",
       "    <tr>\n",
       "      <th>1303</th>\n",
       "      <td>4/3/2023</td>\n",
       "      <td>4124.51</td>\n",
       "      <td>33601.15</td>\n",
       "      <td>April 03 2023</td>\n",
       "      <td>Monday, 2023-04-03</td>\n",
       "      <td>3-Apr-23</td>\n",
       "      <td>2023-04-03</td>\n",
       "      <td>04</td>\n",
       "      <td>14</td>\n",
       "      <td>April</td>\n",
       "      <td>Monday</td>\n",
       "      <td>2023-04-03</td>\n",
       "      <td>2023-04-03</td>\n",
       "    </tr>\n",
       "    <tr>\n",
       "      <th>1304</th>\n",
       "      <td>4/4/2023</td>\n",
       "      <td>4100.60</td>\n",
       "      <td>33402.38</td>\n",
       "      <td>April 04 2023</td>\n",
       "      <td>Tuesday, 2023-04-04</td>\n",
       "      <td>4-Apr-23</td>\n",
       "      <td>2023-04-04</td>\n",
       "      <td>04</td>\n",
       "      <td>14</td>\n",
       "      <td>April</td>\n",
       "      <td>Tuesday</td>\n",
       "      <td>2023-04-04</td>\n",
       "      <td>2023-04-04</td>\n",
       "    </tr>\n",
       "  </tbody>\n",
       "</table>\n",
       "<p>1305 rows × 13 columns</p>\n",
       "</div>"
      ],
      "text/plain": [
       "       date_str    sp500      djia       date_ex1               date_ex2  \\\n",
       "0      4/4/2018  2644.69  24264.30  April 04 2018  Wednesday, 2018-04-04   \n",
       "1      4/5/2018  2662.84  24505.22  April 05 2018   Thursday, 2018-04-05   \n",
       "2      4/6/2018  2604.47  23932.76  April 06 2018     Friday, 2018-04-06   \n",
       "3      4/9/2018  2613.16  23979.10  April 09 2018     Monday, 2018-04-09   \n",
       "4     4/10/2018  2656.87  24408.00  April 10 2018    Tuesday, 2018-04-10   \n",
       "...         ...      ...       ...            ...                    ...   \n",
       "1300  3/29/2023  4027.81  32717.60  March 29 2023  Wednesday, 2023-03-29   \n",
       "1301  3/30/2023  4050.83  32859.03  March 30 2023   Thursday, 2023-03-30   \n",
       "1302  3/31/2023  4109.31  33274.15  March 31 2023     Friday, 2023-03-31   \n",
       "1303   4/3/2023  4124.51  33601.15  April 03 2023     Monday, 2023-04-03   \n",
       "1304   4/4/2023  4100.60  33402.38  April 04 2023    Tuesday, 2023-04-04   \n",
       "\n",
       "       date_ex3       date month_str week_str monthname weekdayname  \\\n",
       "0      4-Apr-18 2018-04-04        04       14     April   Wednesday   \n",
       "1      5-Apr-18 2018-04-05        04       14     April    Thursday   \n",
       "2      6-Apr-18 2018-04-06        04       14     April      Friday   \n",
       "3      9-Apr-18 2018-04-09        04       15     April      Monday   \n",
       "4     10-Apr-18 2018-04-10        04       15     April     Tuesday   \n",
       "...         ...        ...       ...      ...       ...         ...   \n",
       "1300  29-Mar-23 2023-03-29        03       13     March   Wednesday   \n",
       "1301  30-Mar-23 2023-03-30        03       13     March    Thursday   \n",
       "1302  31-Mar-23 2023-03-31        03       13     March      Friday   \n",
       "1303   3-Apr-23 2023-04-03        04       14     April      Monday   \n",
       "1304   4-Apr-23 2023-04-04        04       14     April     Tuesday   \n",
       "\n",
       "     date_ex1_dt date_ex2_dt  \n",
       "0     2018-04-04  2018-04-04  \n",
       "1     2018-04-05  2018-04-05  \n",
       "2     2018-04-06  2018-04-06  \n",
       "3     2018-04-09  2018-04-09  \n",
       "4     2018-04-10  2018-04-10  \n",
       "...          ...         ...  \n",
       "1300  2023-03-29  2023-03-29  \n",
       "1301  2023-03-30  2023-03-30  \n",
       "1302  2023-03-31  2023-03-31  \n",
       "1303  2023-04-03  2023-04-03  \n",
       "1304  2023-04-04  2023-04-04  \n",
       "\n",
       "[1305 rows x 13 columns]"
      ]
     },
     "execution_count": 13,
     "metadata": {},
     "output_type": "execute_result"
    }
   ],
   "source": [
    "# Combine wildcards + characters depending on the input\n",
    "# Can include spaces, commas, \"/\", \"-\" or any other formatting\n",
    "# Be careful to include the wildcar letters in upper or lower case \n",
    "# depending on the intended format \n",
    "\n",
    "financial['date_ex1_dt'] = pd.to_datetime(financial[\"date_ex1\"], format = \"%B %d %Y\")\n",
    "financial['date_ex2_dt'] = pd.to_datetime(financial[\"date_ex2\"], format = \"%A, %Y-%m-%d\")\n",
    "\n",
    "financial"
   ]
  },
  {
   "cell_type": "markdown",
   "metadata": {},
   "source": [
    "**Does the following line of code work?** ```pd.to_datetime(financial[\"date_ex1\"], format = \"%A, %Y-%m-%d\")```"
   ]
  },
  {
   "attachments": {},
   "cell_type": "markdown",
   "metadata": {},
   "source": [
    "<font size = \"5\">\n",
    "\n",
    "Period grouping"
   ]
  },
  {
   "cell_type": "code",
   "execution_count": 14,
   "metadata": {},
   "outputs": [
    {
     "name": "stderr",
     "output_type": "stream",
     "text": [
      "/var/folders/1y/354c1ykj6x7cngpndzcd_kpm0000gn/T/ipykernel_61345/90854863.py:5: FutureWarning: 'y' is deprecated and will be removed in a future version, please use 'YE' instead.\n",
      "  month_config = pd.Grouper(key='date', freq='y')\n"
     ]
    }
   ],
   "source": [
    "# In \"freq\" specify the letter for the level of aggregation\n",
    "# year (y), month (m), week (w), day(d)\n",
    "# There are also more advanced options! See documentation\n",
    "\n",
    "month_config = pd.Grouper(key='date', freq='y')"
   ]
  },
  {
   "attachments": {},
   "cell_type": "markdown",
   "metadata": {},
   "source": [
    "<font size = \"5\">\n",
    "\n",
    "Aggregate by period"
   ]
  },
  {
   "cell_type": "code",
   "execution_count": 15,
   "metadata": {},
   "outputs": [
    {
     "data": {
      "application/vnd.microsoft.datawrangler.viewer.v0+json": {
       "columns": [
        {
         "name": "index",
         "rawType": "int64",
         "type": "integer"
        },
        {
         "name": "date",
         "rawType": "datetime64[ns]",
         "type": "datetime"
        },
        {
         "name": "sp500_mean",
         "rawType": "float64",
         "type": "float"
        }
       ],
       "conversionMethod": "pd.DataFrame",
       "ref": "d4d67584-0d47-4275-8b96-c3d2b062b554",
       "rows": [
        [
         "0",
         "2018-12-31 00:00:00",
         "2751.9218617021274"
        ],
        [
         "1",
         "2019-12-31 00:00:00",
         "2913.3605555555555"
        ],
        [
         "2",
         "2020-12-31 00:00:00",
         "3217.8564822134385"
        ],
        [
         "3",
         "2021-12-31 00:00:00",
         "4273.406626984127"
        ],
        [
         "4",
         "2022-12-31 00:00:00",
         "4098.514741035857"
        ],
        [
         "5",
         "2023-12-31 00:00:00",
         "4003.57984375"
        ]
       ],
       "shape": {
        "columns": 2,
        "rows": 6
       }
      },
      "text/html": [
       "<div>\n",
       "<style scoped>\n",
       "    .dataframe tbody tr th:only-of-type {\n",
       "        vertical-align: middle;\n",
       "    }\n",
       "\n",
       "    .dataframe tbody tr th {\n",
       "        vertical-align: top;\n",
       "    }\n",
       "\n",
       "    .dataframe thead th {\n",
       "        text-align: right;\n",
       "    }\n",
       "</style>\n",
       "<table border=\"1\" class=\"dataframe\">\n",
       "  <thead>\n",
       "    <tr style=\"text-align: right;\">\n",
       "      <th></th>\n",
       "      <th>date</th>\n",
       "      <th>sp500_mean</th>\n",
       "    </tr>\n",
       "  </thead>\n",
       "  <tbody>\n",
       "    <tr>\n",
       "      <th>0</th>\n",
       "      <td>2018-12-31</td>\n",
       "      <td>2751.921862</td>\n",
       "    </tr>\n",
       "    <tr>\n",
       "      <th>1</th>\n",
       "      <td>2019-12-31</td>\n",
       "      <td>2913.360556</td>\n",
       "    </tr>\n",
       "    <tr>\n",
       "      <th>2</th>\n",
       "      <td>2020-12-31</td>\n",
       "      <td>3217.856482</td>\n",
       "    </tr>\n",
       "    <tr>\n",
       "      <th>3</th>\n",
       "      <td>2021-12-31</td>\n",
       "      <td>4273.406627</td>\n",
       "    </tr>\n",
       "    <tr>\n",
       "      <th>4</th>\n",
       "      <td>2022-12-31</td>\n",
       "      <td>4098.514741</td>\n",
       "    </tr>\n",
       "    <tr>\n",
       "      <th>5</th>\n",
       "      <td>2023-12-31</td>\n",
       "      <td>4003.579844</td>\n",
       "    </tr>\n",
       "  </tbody>\n",
       "</table>\n",
       "</div>"
      ],
      "text/plain": [
       "        date   sp500_mean\n",
       "0 2018-12-31  2751.921862\n",
       "1 2019-12-31  2913.360556\n",
       "2 2020-12-31  3217.856482\n",
       "3 2021-12-31  4273.406627\n",
       "4 2022-12-31  4098.514741\n",
       "5 2023-12-31  4003.579844"
      ]
     },
     "execution_count": 15,
     "metadata": {},
     "output_type": "execute_result"
    }
   ],
   "source": [
    "financial.groupby(month_config).agg(sp500_mean = (\"sp500\",\"mean\")).reset_index()"
   ]
  },
  {
   "cell_type": "code",
   "execution_count": null,
   "metadata": {},
   "outputs": [],
   "source": [
    "# Group on the period column\n",
    "# We use a wrapper () to split the command into multiple lines\n",
    "# The \".reset_index()\" option ensures that the grouper is\n",
    "# converted to a column. This is important for plotting.\n",
    "# There's a lot of options to \n",
    "\n",
    "monthlydata = (financial\n",
    "               .groupby(month_config) \n",
    "               .agg(sp500_mean = (\"sp500\",\"mean\"))\n",
    "               .reset_index())"
   ]
  },
  {
   "cell_type": "code",
   "execution_count": 31,
   "metadata": {},
   "outputs": [
    {
     "data": {
      "application/vnd.microsoft.datawrangler.viewer.v0+json": {
       "columns": [
        {
         "name": "index",
         "rawType": "int64",
         "type": "integer"
        },
        {
         "name": "date",
         "rawType": "datetime64[ns]",
         "type": "datetime"
        },
        {
         "name": "sp500_mean",
         "rawType": "float64",
         "type": "float"
        }
       ],
       "conversionMethod": "pd.DataFrame",
       "ref": "4227f3e2-28ce-42e8-ae06-8484283587bd",
       "rows": [
        [
         "0",
         "2018-12-31 00:00:00",
         "2751.9218617021274"
        ],
        [
         "1",
         "2019-12-31 00:00:00",
         "2913.3605555555555"
        ],
        [
         "2",
         "2020-12-31 00:00:00",
         "3217.8564822134385"
        ],
        [
         "3",
         "2021-12-31 00:00:00",
         "4273.406626984127"
        ],
        [
         "4",
         "2022-12-31 00:00:00",
         "4098.514741035857"
        ],
        [
         "5",
         "2023-12-31 00:00:00",
         "4003.57984375"
        ]
       ],
       "shape": {
        "columns": 2,
        "rows": 6
       }
      },
      "text/html": [
       "<div>\n",
       "<style scoped>\n",
       "    .dataframe tbody tr th:only-of-type {\n",
       "        vertical-align: middle;\n",
       "    }\n",
       "\n",
       "    .dataframe tbody tr th {\n",
       "        vertical-align: top;\n",
       "    }\n",
       "\n",
       "    .dataframe thead th {\n",
       "        text-align: right;\n",
       "    }\n",
       "</style>\n",
       "<table border=\"1\" class=\"dataframe\">\n",
       "  <thead>\n",
       "    <tr style=\"text-align: right;\">\n",
       "      <th></th>\n",
       "      <th>date</th>\n",
       "      <th>sp500_mean</th>\n",
       "    </tr>\n",
       "  </thead>\n",
       "  <tbody>\n",
       "    <tr>\n",
       "      <th>0</th>\n",
       "      <td>2018-12-31</td>\n",
       "      <td>2751.921862</td>\n",
       "    </tr>\n",
       "    <tr>\n",
       "      <th>1</th>\n",
       "      <td>2019-12-31</td>\n",
       "      <td>2913.360556</td>\n",
       "    </tr>\n",
       "    <tr>\n",
       "      <th>2</th>\n",
       "      <td>2020-12-31</td>\n",
       "      <td>3217.856482</td>\n",
       "    </tr>\n",
       "    <tr>\n",
       "      <th>3</th>\n",
       "      <td>2021-12-31</td>\n",
       "      <td>4273.406627</td>\n",
       "    </tr>\n",
       "    <tr>\n",
       "      <th>4</th>\n",
       "      <td>2022-12-31</td>\n",
       "      <td>4098.514741</td>\n",
       "    </tr>\n",
       "    <tr>\n",
       "      <th>5</th>\n",
       "      <td>2023-12-31</td>\n",
       "      <td>4003.579844</td>\n",
       "    </tr>\n",
       "  </tbody>\n",
       "</table>\n",
       "</div>"
      ],
      "text/plain": [
       "        date   sp500_mean\n",
       "0 2018-12-31  2751.921862\n",
       "1 2019-12-31  2913.360556\n",
       "2 2020-12-31  3217.856482\n",
       "3 2021-12-31  4273.406627\n",
       "4 2022-12-31  4098.514741\n",
       "5 2023-12-31  4003.579844"
      ]
     },
     "execution_count": 31,
     "metadata": {},
     "output_type": "execute_result"
    }
   ],
   "source": [
    "monthlydata"
   ]
  },
  {
   "attachments": {},
   "cell_type": "markdown",
   "metadata": {},
   "source": [
    "<font size = \"5\">\n",
    "\n",
    "Plot aggregate data"
   ]
  },
  {
   "cell_type": "code",
   "execution_count": 32,
   "metadata": {},
   "outputs": [
    {
     "data": {
      "text/plain": [
       "Text(0.5, 1.0, 'Monthly average stock market performance')"
      ]
     },
     "execution_count": 32,
     "metadata": {},
     "output_type": "execute_result"
    },
    {
     "data": {
      "image/png": "[encoded data removed]",
      "text/plain": [
       "<Figure size 640x480 with 1 Axes>"
      ]
     },
     "metadata": {},
     "output_type": "display_data"
    }
   ],
   "source": [
    "plt.plot(\"date\",\"sp500_mean\",\n",
    "          data = monthlydata)\n",
    "plt.xlabel(\"Time\")\n",
    "plt.ylabel(\"S&P 500\")\n",
    "plt.title(\"Monthly average stock market performance\")"
   ]
  },
  {
   "attachments": {},
   "cell_type": "markdown",
   "metadata": {},
   "source": [
    "<font size = \"5\">\n",
    "\n",
    "Try it yourself!\n",
    "\n",
    "- Practice ```pd.to_datetime()```\n",
    "- Parse the column \"data_ex3\"\n",
    "- Take a close look at the formatting\n",
    "\n",
    "HINT: Refer to the table of wildcards <br>\n",
    " in the previous section\n"
   ]
  },
  {
   "cell_type": "markdown",
   "metadata": {},
   "source": [
    "# Write your own code\n",
    "\n",
    "financial[\"date_ex3_dt\"] = pd.to_datetime(financial[\"date_ex3\"], format = \"%d-%b-%y\")\n",
    "financial"
   ]
  },
  {
   "attachments": {},
   "cell_type": "markdown",
   "metadata": {},
   "source": [
    "<font size = \"5\">\n",
    "\n"
   ]
  },
  {
   "attachments": {},
   "cell_type": "markdown",
   "metadata": {},
   "source": [
    "<font size = \"5\">\n",
    "\n",
    "Try it yourself!\n",
    "\n",
    "- Compute an aggregate dataset which computes the standard <br>\n",
    "deviation of the S&P 500 at the weekly level.\n",
    "- Generate a line plot with your results\n"
   ]
  },
  {
   "cell_type": "code",
   "execution_count": 22,
   "metadata": {},
   "outputs": [
    {
     "name": "stderr",
     "output_type": "stream",
     "text": [
      "/var/folders/1y/354c1ykj6x7cngpndzcd_kpm0000gn/T/ipykernel_61345/1399047709.py:5: FutureWarning: 'w' is deprecated and will be removed in a future version, please use 'W' instead.\n",
      "  week_config = pd.Grouper(key='date', freq='w')\n"
     ]
    },
    {
     "data": {
      "application/vnd.microsoft.datawrangler.viewer.v0+json": {
       "columns": [
        {
         "name": "index",
         "rawType": "int64",
         "type": "integer"
        },
        {
         "name": "date",
         "rawType": "datetime64[ns]",
         "type": "datetime"
        },
        {
         "name": "sp500_sd",
         "rawType": "float64",
         "type": "float"
        }
       ],
       "conversionMethod": "pd.DataFrame",
       "ref": "9bdbf3a5-6e92-443b-9aa4-45f46fc102bf",
       "rows": [
        [
         "0",
         "2018-04-08 00:00:00",
         "29.872305457285172"
        ],
        [
         "1",
         "2018-04-15 00:00:00",
         "20.246040847533642"
        ],
        [
         "2",
         "2018-04-22 00:00:00",
         "17.033965187237005"
        ],
        [
         "3",
         "2018-04-29 00:00:00",
         "17.69440165702133"
        ],
        [
         "4",
         "2018-05-06 00:00:00",
         "13.747389934093073"
        ],
        [
         "5",
         "2018-05-13 00:00:00",
         "26.616119739736654"
        ],
        [
         "6",
         "2018-05-20 00:00:00",
         "7.575831307520108"
        ],
        [
         "7",
         "2018-05-27 00:00:00",
         "5.251155111020827"
        ],
        [
         "8",
         "2018-06-03 00:00:00",
         "19.858521260825597"
        ],
        [
         "9",
         "2018-06-10 00:00:00",
         "14.657301252277025"
        ],
        [
         "10",
         "2018-06-17 00:00:00",
         "4.109249323173215"
        ],
        [
         "11",
         "2018-06-24 00:00:00",
         "9.574014309577649"
        ],
        [
         "12",
         "2018-07-01 00:00:00",
         "8.923223632746176"
        ],
        [
         "13",
         "2018-07-08 00:00:00",
         "19.650314670932655"
        ],
        [
         "14",
         "2018-07-15 00:00:00",
         "11.182617314385778"
        ],
        [
         "15",
         "2018-07-22 00:00:00",
         "6.747583271068335"
        ],
        [
         "16",
         "2018-07-29 00:00:00",
         "15.63916941528545"
        ],
        [
         "17",
         "2018-08-05 00:00:00",
         "14.377570378892282"
        ],
        [
         "18",
         "2018-08-12 00:00:00",
         "10.257944238491415"
        ],
        [
         "19",
         "2018-08-19 00:00:00",
         "13.511135407507602"
        ],
        [
         "20",
         "2018-08-26 00:00:00",
         "7.2326170920351185"
        ],
        [
         "21",
         "2018-09-02 00:00:00",
         "6.955328892295359"
        ],
        [
         "22",
         "2018-09-09 00:00:00",
         "11.104318604338793"
        ],
        [
         "23",
         "2018-09-16 00:00:00",
         "11.85755244559318"
        ],
        [
         "24",
         "2018-09-23 00:00:00",
         "17.868491262554624"
        ],
        [
         "25",
         "2018-09-30 00:00:00",
         "4.886228607013909"
        ],
        [
         "26",
         "2018-10-07 00:00:00",
         "17.87504741252463"
        ],
        [
         "27",
         "2018-10-14 00:00:00",
         "69.95894546089167"
        ],
        [
         "28",
         "2018-10-21 00:00:00",
         "26.779065144250296"
        ],
        [
         "29",
         "2018-10-28 00:00:00",
         "45.786669784992995"
        ],
        [
         "30",
         "2018-11-04 00:00:00",
         "38.89867285653837"
        ],
        [
         "31",
         "2018-11-11 00:00:00",
         "32.427194143187805"
        ],
        [
         "32",
         "2018-11-18 00:00:00",
         "13.20387821815992"
        ],
        [
         "33",
         "2018-11-25 00:00:00",
         "25.63711811027138"
        ],
        [
         "34",
         "2018-12-02 00:00:00",
         "39.0243734094477"
        ],
        [
         "35",
         "2018-12-09 00:00:00",
         "64.72185746201482"
        ],
        [
         "36",
         "2018-12-16 00:00:00",
         "20.84814787936822"
        ],
        [
         "37",
         "2018-12-23 00:00:00",
         "55.331341932037"
        ],
        [
         "38",
         "2018-12-30 00:00:00",
         "65.4945984413983"
        ],
        [
         "39",
         "2019-01-06 00:00:00",
         "35.96495087813518"
        ],
        [
         "40",
         "2019-01-13 00:00:00",
         "19.461851659078874"
        ],
        [
         "41",
         "2019-01-20 00:00:00",
         "32.72753168205646"
        ],
        [
         "42",
         "2019-01-27 00:00:00",
         "13.943427065586562"
        ],
        [
         "43",
         "2019-02-03 00:00:00",
         "31.90932355911044"
        ],
        [
         "44",
         "2019-02-10 00:00:00",
         "14.143386086789672"
        ],
        [
         "45",
         "2019-02-17 00:00:00",
         "23.65089998287571"
        ],
        [
         "46",
         "2019-02-24 00:00:00",
         "7.590144377195057"
        ],
        [
         "47",
         "2019-03-03 00:00:00",
         "6.91660538125469"
        ],
        [
         "48",
         "2019-03-10 00:00:00",
         "22.772490421559198"
        ],
        [
         "49",
         "2019-03-17 00:00:00",
         "15.74428150154864"
        ]
       ],
       "shape": {
        "columns": 2,
        "rows": 262
       }
      },
      "text/html": [
       "<div>\n",
       "<style scoped>\n",
       "    .dataframe tbody tr th:only-of-type {\n",
       "        vertical-align: middle;\n",
       "    }\n",
       "\n",
       "    .dataframe tbody tr th {\n",
       "        vertical-align: top;\n",
       "    }\n",
       "\n",
       "    .dataframe thead th {\n",
       "        text-align: right;\n",
       "    }\n",
       "</style>\n",
       "<table border=\"1\" class=\"dataframe\">\n",
       "  <thead>\n",
       "    <tr style=\"text-align: right;\">\n",
       "      <th></th>\n",
       "      <th>date</th>\n",
       "      <th>sp500_sd</th>\n",
       "    </tr>\n",
       "  </thead>\n",
       "  <tbody>\n",
       "    <tr>\n",
       "      <th>0</th>\n",
       "      <td>2018-04-08</td>\n",
       "      <td>29.872305</td>\n",
       "    </tr>\n",
       "    <tr>\n",
       "      <th>1</th>\n",
       "      <td>2018-04-15</td>\n",
       "      <td>20.246041</td>\n",
       "    </tr>\n",
       "    <tr>\n",
       "      <th>2</th>\n",
       "      <td>2018-04-22</td>\n",
       "      <td>17.033965</td>\n",
       "    </tr>\n",
       "    <tr>\n",
       "      <th>3</th>\n",
       "      <td>2018-04-29</td>\n",
       "      <td>17.694402</td>\n",
       "    </tr>\n",
       "    <tr>\n",
       "      <th>4</th>\n",
       "      <td>2018-05-06</td>\n",
       "      <td>13.747390</td>\n",
       "    </tr>\n",
       "    <tr>\n",
       "      <th>...</th>\n",
       "      <td>...</td>\n",
       "      <td>...</td>\n",
       "    </tr>\n",
       "    <tr>\n",
       "      <th>257</th>\n",
       "      <td>2023-03-12</td>\n",
       "      <td>72.372058</td>\n",
       "    </tr>\n",
       "    <tr>\n",
       "      <th>258</th>\n",
       "      <td>2023-03-19</td>\n",
       "      <td>38.469249</td>\n",
       "    </tr>\n",
       "    <tr>\n",
       "      <th>259</th>\n",
       "      <td>2023-03-26</td>\n",
       "      <td>25.800050</td>\n",
       "    </tr>\n",
       "    <tr>\n",
       "      <th>260</th>\n",
       "      <td>2023-04-02</td>\n",
       "      <td>56.780195</td>\n",
       "    </tr>\n",
       "    <tr>\n",
       "      <th>261</th>\n",
       "      <td>2023-04-09</td>\n",
       "      <td>16.906923</td>\n",
       "    </tr>\n",
       "  </tbody>\n",
       "</table>\n",
       "<p>262 rows × 2 columns</p>\n",
       "</div>"
      ],
      "text/plain": [
       "          date   sp500_sd\n",
       "0   2018-04-08  29.872305\n",
       "1   2018-04-15  20.246041\n",
       "2   2018-04-22  17.033965\n",
       "3   2018-04-29  17.694402\n",
       "4   2018-05-06  13.747390\n",
       "..         ...        ...\n",
       "257 2023-03-12  72.372058\n",
       "258 2023-03-19  38.469249\n",
       "259 2023-03-26  25.800050\n",
       "260 2023-04-02  56.780195\n",
       "261 2023-04-09  16.906923\n",
       "\n",
       "[262 rows x 2 columns]"
      ]
     },
     "metadata": {},
     "output_type": "display_data"
    },
    {
     "data": {
      "text/plain": [
       "Text(0.5, 1.0, 'Weekly Standard Deviation of the S&P 500')"
      ]
     },
     "execution_count": 22,
     "metadata": {},
     "output_type": "execute_result"
    },
    {
     "data": {
      "image/png": "[encoded data removed]",
      "text/plain": [
       "<Figure size 640x480 with 1 Axes>"
      ]
     },
     "metadata": {},
     "output_type": "display_data"
    }
   ],
   "source": [
    "# Write your own code\n",
    "\n",
    "financial\n",
    "\n",
    "week_config = pd.Grouper(key='date', freq='w')\n",
    "\n",
    "weekly_sp500_sd = (financial\n",
    "         .groupby(week_config)\n",
    "         .agg(sp500_sd = (\"sp500\",\"std\"))\n",
    "         .reset_index())\n",
    "display(weekly_sp500_sd)\n",
    "\n",
    "plt.plot(\"date\",\"sp500_sd\",\n",
    "          data = weekly_sp500_sd)\n",
    "plt.xlabel(\"Time\")\n",
    "plt.ylabel(\"S&P 500\")\n",
    "plt.title(\"Weekly Standard Deviation of the S&P 500\")"
   ]
  },
  {
   "attachments": {},
   "cell_type": "markdown",
   "metadata": {},
   "source": [
    "# <span style=\"color:darkblue\"> IV. Additional Material </span>"
   ]
  },
  {
   "attachments": {},
   "cell_type": "markdown",
   "metadata": {},
   "source": [
    "<font size = \"5\">\n",
    "\n",
    "Full list of wild cards:\n",
    "\n",
    "- More fine-grained, e.g. microseconds, etc.\n",
    "- Other formats, e.g. time zone, \"AM/PM\", etc.\n",
    "\n",
    "https://www.w3schools.com/python/python_datetime.asp"
   ]
  }
 ],
 "metadata": {
  "kernelspec": {
   "display_name": "base",
   "language": "python",
   "name": "python3"
  },
  "language_info": {
   "codemirror_mode": {
    "name": "ipython",
    "version": 3
   },
   "file_extension": ".py",
   "mimetype": "text/x-python",
   "name": "python",
   "nbconvert_exporter": "python",
   "pygments_lexer": "ipython3",
   "version": "3.12.7"
  },
  "orig_nbformat": 4
 },
 "nbformat": 4,
 "nbformat_minor": 2
}
